{
 "cells": [
  {
   "cell_type": "markdown",
   "id": "empirical-voice",
   "metadata": {},
   "source": [
    "# Airbnb Descriptive"
   ]
  },
  {
   "cell_type": "markdown",
   "id": "romance-workstation",
   "metadata": {},
   "source": [
    "<p>Now that we have the predictive model complete, we now look to address the qualities that most affect the experience of Airbnb guests. \n",
    "Namely, these include quality features, bedrooms, bathrooms and seasonal features that enchance/detract from one's stay.</p>"
   ]
  },
  {
   "cell_type": "code",
   "execution_count": 1,
   "id": "banned-hospital",
   "metadata": {},
   "outputs": [],
   "source": [
    "import pandas as pd\n",
    "import numpy as np\n",
    "import matplotlib.pyplot as plt\n",
    "%matplotlib inline\n",
    "plt.style.use('ggplot')\n",
    "import seaborn as sns\n",
    "prices = pd.read_csv('../../data/Ames_Housing_Price_Data.csv',index_col = 0)"
   ]
  },
  {
   "cell_type": "code",
   "execution_count": 2,
   "id": "further-villa",
   "metadata": {},
   "outputs": [],
   "source": [
    "#Engineering new features relevant to Airbnb experience\n",
    "prices['YrSinceUpdate'] = 2010-prices['YearRemodAdd']\n",
    "prices.drop('YearRemodAdd',axis = 1,inplace = True)\n",
    "prices['Total_FullBaths'] = prices['BsmtFullBath'] + prices['FullBath']\n",
    "prices['Total_HalfBaths'] = prices['BsmtHalfBath'] + prices['HalfBath']\n",
    "prices.drop(['BsmtFullBath','FullBath','BsmtHalfBath','HalfBath'],axis = 1, inplace = True)"
   ]
  },
  {
   "cell_type": "code",
   "execution_count": 3,
   "id": "comparative-diversity",
   "metadata": {},
   "outputs": [
    {
     "data": {
      "text/html": [
       "<div>\n",
       "<style scoped>\n",
       "    .dataframe tbody tr th:only-of-type {\n",
       "        vertical-align: middle;\n",
       "    }\n",
       "\n",
       "    .dataframe tbody tr th {\n",
       "        vertical-align: top;\n",
       "    }\n",
       "\n",
       "    .dataframe thead th {\n",
       "        text-align: right;\n",
       "    }\n",
       "</style>\n",
       "<table border=\"1\" class=\"dataframe\">\n",
       "  <thead>\n",
       "    <tr style=\"text-align: right;\">\n",
       "      <th></th>\n",
       "      <th>PID</th>\n",
       "      <th>SalePrice</th>\n",
       "      <th>GrLivArea</th>\n",
       "      <th>BldgType</th>\n",
       "      <th>HouseStyle</th>\n",
       "      <th>OverallQual</th>\n",
       "      <th>OverallCond</th>\n",
       "      <th>YearBuilt</th>\n",
       "      <th>YrSinceUpdate</th>\n",
       "      <th>ExterQual</th>\n",
       "      <th>...</th>\n",
       "      <th>BsmtFinType2</th>\n",
       "      <th>BedroomAbvGr</th>\n",
       "      <th>KitchenQual</th>\n",
       "      <th>GarageQual</th>\n",
       "      <th>GarageCond</th>\n",
       "      <th>PoolQC</th>\n",
       "      <th>MiscFeature</th>\n",
       "      <th>Functional</th>\n",
       "      <th>Neighborhood</th>\n",
       "      <th>Fence</th>\n",
       "    </tr>\n",
       "  </thead>\n",
       "  <tbody>\n",
       "    <tr>\n",
       "      <th>332</th>\n",
       "      <td>907252050</td>\n",
       "      <td>222000</td>\n",
       "      <td>1762</td>\n",
       "      <td>1Fam</td>\n",
       "      <td>2Story</td>\n",
       "      <td>7</td>\n",
       "      <td>5</td>\n",
       "      <td>2002</td>\n",
       "      <td>8</td>\n",
       "      <td>Gd</td>\n",
       "      <td>...</td>\n",
       "      <td>Unf</td>\n",
       "      <td>3</td>\n",
       "      <td>Gd</td>\n",
       "      <td>TA</td>\n",
       "      <td>TA</td>\n",
       "      <td>NaN</td>\n",
       "      <td>NaN</td>\n",
       "      <td>Typ</td>\n",
       "      <td>CollgCr</td>\n",
       "      <td>NaN</td>\n",
       "    </tr>\n",
       "    <tr>\n",
       "      <th>16</th>\n",
       "      <td>533223020</td>\n",
       "      <td>155000</td>\n",
       "      <td>1416</td>\n",
       "      <td>Twnhs</td>\n",
       "      <td>2Story</td>\n",
       "      <td>7</td>\n",
       "      <td>5</td>\n",
       "      <td>1999</td>\n",
       "      <td>11</td>\n",
       "      <td>Gd</td>\n",
       "      <td>...</td>\n",
       "      <td>Unf</td>\n",
       "      <td>3</td>\n",
       "      <td>Gd</td>\n",
       "      <td>TA</td>\n",
       "      <td>TA</td>\n",
       "      <td>NaN</td>\n",
       "      <td>NaN</td>\n",
       "      <td>Typ</td>\n",
       "      <td>Somerst</td>\n",
       "      <td>NaN</td>\n",
       "    </tr>\n",
       "    <tr>\n",
       "      <th>254</th>\n",
       "      <td>527210060</td>\n",
       "      <td>377426</td>\n",
       "      <td>1922</td>\n",
       "      <td>1Fam</td>\n",
       "      <td>1Story</td>\n",
       "      <td>9</td>\n",
       "      <td>5</td>\n",
       "      <td>2005</td>\n",
       "      <td>4</td>\n",
       "      <td>Gd</td>\n",
       "      <td>...</td>\n",
       "      <td>Unf</td>\n",
       "      <td>3</td>\n",
       "      <td>Gd</td>\n",
       "      <td>TA</td>\n",
       "      <td>TA</td>\n",
       "      <td>NaN</td>\n",
       "      <td>NaN</td>\n",
       "      <td>Typ</td>\n",
       "      <td>StoneBr</td>\n",
       "      <td>NaN</td>\n",
       "    </tr>\n",
       "    <tr>\n",
       "      <th>408</th>\n",
       "      <td>909257050</td>\n",
       "      <td>234000</td>\n",
       "      <td>2080</td>\n",
       "      <td>1Fam</td>\n",
       "      <td>2Story</td>\n",
       "      <td>7</td>\n",
       "      <td>9</td>\n",
       "      <td>1926</td>\n",
       "      <td>6</td>\n",
       "      <td>Gd</td>\n",
       "      <td>...</td>\n",
       "      <td>Unf</td>\n",
       "      <td>3</td>\n",
       "      <td>Gd</td>\n",
       "      <td>TA</td>\n",
       "      <td>TA</td>\n",
       "      <td>NaN</td>\n",
       "      <td>NaN</td>\n",
       "      <td>Typ</td>\n",
       "      <td>Crawfor</td>\n",
       "      <td>MnPrv</td>\n",
       "    </tr>\n",
       "    <tr>\n",
       "      <th>138</th>\n",
       "      <td>528222020</td>\n",
       "      <td>185101</td>\n",
       "      <td>1492</td>\n",
       "      <td>1Fam</td>\n",
       "      <td>2Story</td>\n",
       "      <td>7</td>\n",
       "      <td>5</td>\n",
       "      <td>2006</td>\n",
       "      <td>4</td>\n",
       "      <td>Gd</td>\n",
       "      <td>...</td>\n",
       "      <td>Unf</td>\n",
       "      <td>3</td>\n",
       "      <td>Gd</td>\n",
       "      <td>TA</td>\n",
       "      <td>TA</td>\n",
       "      <td>NaN</td>\n",
       "      <td>NaN</td>\n",
       "      <td>Typ</td>\n",
       "      <td>Gilbert</td>\n",
       "      <td>NaN</td>\n",
       "    </tr>\n",
       "  </tbody>\n",
       "</table>\n",
       "<p>5 rows × 29 columns</p>\n",
       "</div>"
      ],
      "text/plain": [
       "           PID  SalePrice  GrLivArea BldgType HouseStyle  OverallQual  \\\n",
       "332  907252050     222000       1762     1Fam     2Story            7   \n",
       "16   533223020     155000       1416    Twnhs     2Story            7   \n",
       "254  527210060     377426       1922     1Fam     1Story            9   \n",
       "408  909257050     234000       2080     1Fam     2Story            7   \n",
       "138  528222020     185101       1492     1Fam     2Story            7   \n",
       "\n",
       "     OverallCond  YearBuilt  YrSinceUpdate ExterQual  ... BsmtFinType2  \\\n",
       "332            5       2002              8        Gd  ...          Unf   \n",
       "16             5       1999             11        Gd  ...          Unf   \n",
       "254            5       2005              4        Gd  ...          Unf   \n",
       "408            9       1926              6        Gd  ...          Unf   \n",
       "138            5       2006              4        Gd  ...          Unf   \n",
       "\n",
       "    BedroomAbvGr KitchenQual GarageQual GarageCond  PoolQC  MiscFeature  \\\n",
       "332            3          Gd         TA         TA     NaN          NaN   \n",
       "16             3          Gd         TA         TA     NaN          NaN   \n",
       "254            3          Gd         TA         TA     NaN          NaN   \n",
       "408            3          Gd         TA         TA     NaN          NaN   \n",
       "138            3          Gd         TA         TA     NaN          NaN   \n",
       "\n",
       "    Functional Neighborhood  Fence  \n",
       "332        Typ      CollgCr    NaN  \n",
       "16         Typ      Somerst    NaN  \n",
       "254        Typ      StoneBr    NaN  \n",
       "408        Typ      Crawfor  MnPrv  \n",
       "138        Typ      Gilbert    NaN  \n",
       "\n",
       "[5 rows x 29 columns]"
      ]
     },
     "execution_count": 3,
     "metadata": {},
     "output_type": "execute_result"
    }
   ],
   "source": [
    "airbnb_cols = ['PID','SalePrice','GrLivArea','BldgType','HouseStyle','OverallQual','OverallCond',\n",
    "              'YearBuilt','YrSinceUpdate','ExterQual','ExterCond','BsmtQual','BsmtCond',\n",
    "               'HeatingQC','CentralAir','Total_FullBaths','Total_HalfBaths','FireplaceQu',\n",
    "              'BsmtFinType1','BsmtFinType2','BedroomAbvGr','KitchenQual','GarageQual','GarageCond',\n",
    "               'PoolQC','MiscFeature','Functional',\"Neighborhood\",'Fence']\n",
    "\n",
    "prices = prices[airbnb_cols]\n",
    "prices.sample(5)"
   ]
  },
  {
   "cell_type": "markdown",
   "id": "meaningful-bronze",
   "metadata": {},
   "source": [
    "### Ensure brand quality by filtering out lower quality houses"
   ]
  },
  {
   "cell_type": "code",
   "execution_count": 4,
   "id": "elect-moore",
   "metadata": {},
   "outputs": [],
   "source": [
    "prices = prices.loc[(prices.BsmtFinType1!= 'LwQ') & (prices.BsmtFinType1 !='Unf')]\n",
    "prices = prices.loc[(prices.BsmtFinType2!= 'LwQ') & (prices.BsmtFinType2 !='Unf')]\n",
    "prices = prices.loc[(prices.Functional == 'Typ')&(prices.OverallQual >=5)&(prices.OverallCond >=5)]\n",
    "prices.drop('Functional',axis = 1, inplace = True)"
   ]
  },
  {
   "cell_type": "markdown",
   "id": "interstate-trustee",
   "metadata": {},
   "source": [
    "# Converting quality/condition categoricals to numerical"
   ]
  },
  {
   "cell_type": "code",
   "execution_count": 5,
   "id": "engaged-builder",
   "metadata": {},
   "outputs": [],
   "source": [
    "def ordinal_scale(Series):\n",
    "    '''Returns a pandas Series where quality scores are converted to integers\n",
    "    \n",
    "    Args:\n",
    "    \n",
    "    Series: a pandas Series of categorical quality scores'''\n",
    "    return prices[Series].replace({'Po':None,'Fa':1,'TA':2,'Gd':3,'Ex':4})"
   ]
  },
  {
   "cell_type": "code",
   "execution_count": 6,
   "id": "direct-january",
   "metadata": {
    "scrolled": true
   },
   "outputs": [],
   "source": [
    "prices['KitchenQual'] = ordinal_scale('KitchenQual')\n",
    "prices['ExterQual'] = ordinal_scale('ExterQual')\n",
    "prices['ExterCond'] = ordinal_scale('ExterCond')\n",
    "prices['HeatingQC'] = ordinal_scale('HeatingQC')"
   ]
  },
  {
   "cell_type": "code",
   "execution_count": 7,
   "id": "acting-exhibit",
   "metadata": {},
   "outputs": [],
   "source": [
    "def switch_ordinals(Series):\n",
    "    '''\n",
    "    Returns a pandas series replacing null values with DNE (Does Not Exist) so they can be imputed.\n",
    "    \n",
    "    Args:\n",
    "    \n",
    "\n",
    "    Series: str, column name in the pandas dataframe.\n",
    "    '''\n",
    "    prices[Series].fillna('DNE',inplace = True)\n",
    "    prices[Series].replace({'Po':None,'DNE':1,'Fa':2,'TA':3,'Gd':4,'Ex':5},inplace = True)\n",
    "    return prices[Series]"
   ]
  },
  {
   "cell_type": "code",
   "execution_count": 8,
   "id": "greenhouse-walter",
   "metadata": {},
   "outputs": [
    {
     "data": {
      "text/plain": [
       "Index(['PID', 'SalePrice', 'GrLivArea', 'BldgType', 'HouseStyle',\n",
       "       'OverallQual', 'OverallCond', 'YearBuilt', 'YrSinceUpdate', 'ExterQual',\n",
       "       'ExterCond', 'BsmtQual', 'BsmtCond', 'HeatingQC', 'CentralAir',\n",
       "       'Total_FullBaths', 'Total_HalfBaths', 'FireplaceQu', 'BsmtFinType1',\n",
       "       'BsmtFinType2', 'BedroomAbvGr', 'KitchenQual', 'GarageQual',\n",
       "       'GarageCond', 'PoolQC', 'MiscFeature', 'Neighborhood', 'Fence'],\n",
       "      dtype='object')"
      ]
     },
     "execution_count": 8,
     "metadata": {},
     "output_type": "execute_result"
    }
   ],
   "source": [
    "impute_cols = ['BsmtQual','BsmtCond','FireplaceQu',\n",
    "               'BsmtFinType1','BsmtFinType2','GarageQual','GarageCond','PoolQC']\n",
    "for col in impute_cols:\n",
    "    prices[col] = switch_ordinals(col)\n",
    "\n",
    "\n",
    "prices.update(prices[['Fence','MiscFeature']].fillna('None'))\n",
    "\n",
    "prices.columns"
   ]
  },
  {
   "cell_type": "code",
   "execution_count": 9,
   "id": "incorporated-magnet",
   "metadata": {
    "scrolled": true
   },
   "outputs": [],
   "source": [
    "# summer_cols = ['PoolQC','CentralAir']\n",
    "# winter_cols = ['FireplaceQu','HeatingQC']"
   ]
  },
  {
   "cell_type": "code",
   "execution_count": 10,
   "id": "pending-meditation",
   "metadata": {},
   "outputs": [
    {
     "data": {
      "text/plain": [
       "FireplaceQu    4\n",
       "dtype: int64"
      ]
     },
     "execution_count": 10,
     "metadata": {},
     "output_type": "execute_result"
    }
   ],
   "source": [
    "nulls = prices.isnull().sum()\n",
    "nulls[nulls>1]"
   ]
  },
  {
   "cell_type": "code",
   "execution_count": 11,
   "id": "aerial-lewis",
   "metadata": {},
   "outputs": [],
   "source": [
    "prices['Total_FullBaths'] = prices['Total_FullBaths'].fillna(prices['Total_FullBaths'].mean())\n",
    "prices['Total_HalfBaths'] = prices['Total_HalfBaths'].fillna(prices['Total_HalfBaths'].mean())"
   ]
  },
  {
   "cell_type": "code",
   "execution_count": 12,
   "id": "worse-reception",
   "metadata": {},
   "outputs": [
    {
     "data": {
      "text/plain": [
       "FireplaceQu    4\n",
       "dtype: int64"
      ]
     },
     "execution_count": 12,
     "metadata": {},
     "output_type": "execute_result"
    }
   ],
   "source": [
    "nulls = prices.isnull().sum(axis = 0)\n",
    "nulls[nulls>1]"
   ]
  },
  {
   "cell_type": "code",
   "execution_count": 13,
   "id": "personalized-thermal",
   "metadata": {},
   "outputs": [],
   "source": [
    "prices.dropna(axis = 0, how = 'any',inplace = True)"
   ]
  },
  {
   "cell_type": "code",
   "execution_count": null,
   "id": "tired-jonathan",
   "metadata": {},
   "outputs": [],
   "source": []
  },
  {
   "cell_type": "markdown",
   "id": "impressed-coast",
   "metadata": {},
   "source": [
    "# Merge housing data with Geopy data"
   ]
  },
  {
   "cell_type": "code",
   "execution_count": 14,
   "id": "administrative-hamilton",
   "metadata": {},
   "outputs": [
    {
     "data": {
      "text/html": [
       "<div>\n",
       "<style scoped>\n",
       "    .dataframe tbody tr th:only-of-type {\n",
       "        vertical-align: middle;\n",
       "    }\n",
       "\n",
       "    .dataframe tbody tr th {\n",
       "        vertical-align: top;\n",
       "    }\n",
       "\n",
       "    .dataframe thead th {\n",
       "        text-align: right;\n",
       "    }\n",
       "</style>\n",
       "<table border=\"1\" class=\"dataframe\">\n",
       "  <thead>\n",
       "    <tr style=\"text-align: right;\">\n",
       "      <th></th>\n",
       "      <th>PID</th>\n",
       "      <th>lat</th>\n",
       "      <th>lon</th>\n",
       "      <th>dist_stadium</th>\n",
       "      <th>dist_downtown</th>\n",
       "      <th>dist_airport</th>\n",
       "      <th>coord</th>\n",
       "    </tr>\n",
       "  </thead>\n",
       "  <tbody>\n",
       "    <tr>\n",
       "      <th>0</th>\n",
       "      <td>526301100</td>\n",
       "      <td>42.053808</td>\n",
       "      <td>-93.618344</td>\n",
       "      <td>4.417461</td>\n",
       "      <td>3.210441</td>\n",
       "      <td>6.102121</td>\n",
       "      <td>(42.053808, -93.618344)</td>\n",
       "    </tr>\n",
       "    <tr>\n",
       "      <th>1</th>\n",
       "      <td>526302030</td>\n",
       "      <td>42.053668</td>\n",
       "      <td>-93.618459</td>\n",
       "      <td>4.399660</td>\n",
       "      <td>3.196132</td>\n",
       "      <td>6.086080</td>\n",
       "      <td>(42.053668, -93.618459)</td>\n",
       "    </tr>\n",
       "    <tr>\n",
       "      <th>2</th>\n",
       "      <td>526302040</td>\n",
       "      <td>42.053578</td>\n",
       "      <td>-93.618276</td>\n",
       "      <td>4.395200</td>\n",
       "      <td>3.184448</td>\n",
       "      <td>6.076963</td>\n",
       "      <td>(42.05357834520508, -93.61827582597934)</td>\n",
       "    </tr>\n",
       "    <tr>\n",
       "      <th>3</th>\n",
       "      <td>526302110</td>\n",
       "      <td>42.052841</td>\n",
       "      <td>-93.618633</td>\n",
       "      <td>4.308096</td>\n",
       "      <td>3.106740</td>\n",
       "      <td>5.993553</td>\n",
       "      <td>(42.05284062808919, -93.61863289727206)</td>\n",
       "    </tr>\n",
       "    <tr>\n",
       "      <th>4</th>\n",
       "      <td>526302120</td>\n",
       "      <td>42.052853</td>\n",
       "      <td>-93.618678</td>\n",
       "      <td>4.308129</td>\n",
       "      <td>3.108530</td>\n",
       "      <td>5.994682</td>\n",
       "      <td>(42.05285252734815, -93.61867770937495)</td>\n",
       "    </tr>\n",
       "  </tbody>\n",
       "</table>\n",
       "</div>"
      ],
      "text/plain": [
       "         PID        lat        lon  dist_stadium  dist_downtown  dist_airport  \\\n",
       "0  526301100  42.053808 -93.618344      4.417461       3.210441      6.102121   \n",
       "1  526302030  42.053668 -93.618459      4.399660       3.196132      6.086080   \n",
       "2  526302040  42.053578 -93.618276      4.395200       3.184448      6.076963   \n",
       "3  526302110  42.052841 -93.618633      4.308096       3.106740      5.993553   \n",
       "4  526302120  42.052853 -93.618678      4.308129       3.108530      5.994682   \n",
       "\n",
       "                                     coord  \n",
       "0                  (42.053808, -93.618344)  \n",
       "1                  (42.053668, -93.618459)  \n",
       "2  (42.05357834520508, -93.61827582597934)  \n",
       "3  (42.05284062808919, -93.61863289727206)  \n",
       "4  (42.05285252734815, -93.61867770937495)  "
      ]
     },
     "execution_count": 14,
     "metadata": {},
     "output_type": "execute_result"
    }
   ],
   "source": [
    "latlon = pd.read_csv('../../data/full_latlon.csv')\n",
    "latlon.head()"
   ]
  },
  {
   "cell_type": "code",
   "execution_count": 15,
   "id": "prescription-korean",
   "metadata": {},
   "outputs": [],
   "source": [
    "prices = pd.merge(prices, latlon, how='inner', left_on = 'PID', right_on = 'PID' )"
   ]
  },
  {
   "cell_type": "code",
   "execution_count": 16,
   "id": "focused-coffee",
   "metadata": {},
   "outputs": [
    {
     "data": {
      "text/plain": [
       "(174, 34)"
      ]
     },
     "execution_count": 16,
     "metadata": {},
     "output_type": "execute_result"
    }
   ],
   "source": [
    "prices = prices.drop_duplicates()\n",
    "prices.shape"
   ]
  },
  {
   "cell_type": "markdown",
   "id": "continued-norman",
   "metadata": {},
   "source": [
    "Convert the distances from km to miles"
   ]
  },
  {
   "cell_type": "code",
   "execution_count": 17,
   "id": "facial-wichita",
   "metadata": {},
   "outputs": [],
   "source": [
    "prices[['dist_airport','dist_downtown','dist_stadium']] = prices[['dist_airport','dist_downtown',\n",
    "                                                                 'dist_stadium']].apply(lambda D: D*0.621371)"
   ]
  },
  {
   "cell_type": "code",
   "execution_count": 18,
   "id": "secure-wesley",
   "metadata": {},
   "outputs": [],
   "source": [
    "prices.drop('coord',axis = 1, inplace = True)"
   ]
  },
  {
   "cell_type": "code",
   "execution_count": 19,
   "id": "polished-people",
   "metadata": {},
   "outputs": [
    {
     "data": {
      "text/plain": [
       "NAmes      57\n",
       "Edwards    16\n",
       "Sawyer     15\n",
       "NWAmes     14\n",
       "SawyerW    11\n",
       "Mitchel     9\n",
       "CollgCr     7\n",
       "NoRidge     6\n",
       "Timber      5\n",
       "Somerst     4\n",
       "OldTown     4\n",
       "Veenker     4\n",
       "ClearCr     3\n",
       "IDOTRR      3\n",
       "NridgHt     3\n",
       "Crawfor     3\n",
       "Gilbert     2\n",
       "BrkSide     2\n",
       "NPkVill     2\n",
       "StoneBr     2\n",
       "MeadowV     1\n",
       "SWISU       1\n",
       "Name: Neighborhood, dtype: int64"
      ]
     },
     "execution_count": 19,
     "metadata": {},
     "output_type": "execute_result"
    }
   ],
   "source": [
    "prices['Neighborhood'].value_counts()"
   ]
  },
  {
   "cell_type": "code",
   "execution_count": 20,
   "id": "interim-movement",
   "metadata": {},
   "outputs": [],
   "source": [
    "prices['stadium_transp'] = prices['dist_stadium'].apply(\n",
    "    lambda x: 'walking' if x <= 0.3 else ('biking' if x <= 3 else 'driving'))"
   ]
  },
  {
   "cell_type": "code",
   "execution_count": 21,
   "id": "brave-india",
   "metadata": {},
   "outputs": [
    {
     "data": {
      "text/html": [
       "<div>\n",
       "<style scoped>\n",
       "    .dataframe tbody tr th:only-of-type {\n",
       "        vertical-align: middle;\n",
       "    }\n",
       "\n",
       "    .dataframe tbody tr th {\n",
       "        vertical-align: top;\n",
       "    }\n",
       "\n",
       "    .dataframe thead th {\n",
       "        text-align: right;\n",
       "    }\n",
       "</style>\n",
       "<table border=\"1\" class=\"dataframe\">\n",
       "  <thead>\n",
       "    <tr style=\"text-align: right;\">\n",
       "      <th></th>\n",
       "      <th>SalePrice</th>\n",
       "      <th>Total_FullBaths</th>\n",
       "      <th>Total_HalfBaths</th>\n",
       "      <th>BedroomAbvGr</th>\n",
       "    </tr>\n",
       "  </thead>\n",
       "  <tbody>\n",
       "    <tr>\n",
       "      <th>46</th>\n",
       "      <td>144800</td>\n",
       "      <td>2.0</td>\n",
       "      <td>0.0</td>\n",
       "      <td>2</td>\n",
       "    </tr>\n",
       "    <tr>\n",
       "      <th>56</th>\n",
       "      <td>257500</td>\n",
       "      <td>2.0</td>\n",
       "      <td>1.0</td>\n",
       "      <td>4</td>\n",
       "    </tr>\n",
       "  </tbody>\n",
       "</table>\n",
       "</div>"
      ],
      "text/plain": [
       "    SalePrice  Total_FullBaths  Total_HalfBaths  BedroomAbvGr\n",
       "46     144800              2.0              0.0             2\n",
       "56     257500              2.0              1.0             4"
      ]
     },
     "execution_count": 21,
     "metadata": {},
     "output_type": "execute_result"
    }
   ],
   "source": [
    "#Houses within walking distance to stadium\n",
    "prices[['SalePrice','Total_FullBaths','Total_HalfBaths','BedroomAbvGr']].loc[prices.stadium_transp == 'walking']"
   ]
  },
  {
   "cell_type": "code",
   "execution_count": 22,
   "id": "incident-struggle",
   "metadata": {},
   "outputs": [
    {
     "data": {
      "text/plain": [
       "biking     165\n",
       "driving      7\n",
       "walking      2\n",
       "Name: stadium_transp, dtype: int64"
      ]
     },
     "execution_count": 22,
     "metadata": {},
     "output_type": "execute_result"
    }
   ],
   "source": [
    "prices['stadium_transp'].value_counts()"
   ]
  },
  {
   "cell_type": "code",
   "execution_count": 23,
   "id": "confidential-oliver",
   "metadata": {},
   "outputs": [],
   "source": [
    "ideal_homes = prices.drop(['PID','Neighborhood','stadium_transp'],axis = 1)"
   ]
  },
  {
   "cell_type": "code",
   "execution_count": 24,
   "id": "joint-holly",
   "metadata": {},
   "outputs": [
    {
     "data": {
      "text/plain": [
       "Index(['SalePrice', 'GrLivArea', 'BldgType', 'HouseStyle', 'OverallQual',\n",
       "       'OverallCond', 'YearBuilt', 'YrSinceUpdate', 'ExterQual', 'ExterCond',\n",
       "       'BsmtQual', 'BsmtCond', 'HeatingQC', 'CentralAir', 'Total_FullBaths',\n",
       "       'Total_HalfBaths', 'FireplaceQu', 'BsmtFinType1', 'BsmtFinType2',\n",
       "       'BedroomAbvGr', 'KitchenQual', 'GarageQual', 'GarageCond', 'PoolQC',\n",
       "       'MiscFeature', 'Fence', 'lat', 'lon', 'dist_stadium', 'dist_downtown',\n",
       "       'dist_airport'],\n",
       "      dtype='object')"
      ]
     },
     "execution_count": 24,
     "metadata": {},
     "output_type": "execute_result"
    }
   ],
   "source": [
    "ideal_homes.columns"
   ]
  },
  {
   "cell_type": "markdown",
   "id": "multiple-ancient",
   "metadata": {},
   "source": [
    "## Convert categorical features to numeric"
   ]
  },
  {
   "cell_type": "code",
   "execution_count": 25,
   "id": "circular-tours",
   "metadata": {},
   "outputs": [
    {
     "data": {
      "text/plain": [
       "Index(['BldgType', 'HouseStyle', 'CentralAir', 'BsmtFinType1', 'BsmtFinType2',\n",
       "       'MiscFeature', 'Fence'],\n",
       "      dtype='object')"
      ]
     },
     "execution_count": 25,
     "metadata": {},
     "output_type": "execute_result"
    }
   ],
   "source": [
    "cats = ideal_homes.select_dtypes(object).columns\n",
    "cats"
   ]
  },
  {
   "cell_type": "code",
   "execution_count": 26,
   "id": "civilian-defense",
   "metadata": {},
   "outputs": [],
   "source": [
    "dummy = pd.get_dummies(ideal_homes, columns = cats,drop_first=True)"
   ]
  },
  {
   "cell_type": "code",
   "execution_count": 27,
   "id": "precise-retirement",
   "metadata": {},
   "outputs": [
    {
     "data": {
      "text/plain": [
       "<AxesSubplot:>"
      ]
     },
     "execution_count": 27,
     "metadata": {},
     "output_type": "execute_result"
    },
    {
     "data": {
      "image/png": "[encoded data removed]",
      "text/plain": [
       "<Figure size 432x288 with 1 Axes>"
      ]
     },
     "metadata": {
      "needs_background": "light"
     },
     "output_type": "display_data"
    }
   ],
   "source": [
    "Y = np.log(dummy['SalePrice'])\n",
    "dummy.drop(['SalePrice'],axis = 1,inplace = True)\n",
    "X = dummy.copy()\n",
    "X_columns = X.columns\n",
    "Y.hist()"
   ]
  },
  {
   "cell_type": "code",
   "execution_count": null,
   "id": "geographic-bunny",
   "metadata": {},
   "outputs": [],
   "source": []
  },
  {
   "cell_type": "code",
   "execution_count": 28,
   "id": "exceptional-burner",
   "metadata": {},
   "outputs": [],
   "source": [
    "from sklearn.preprocessing import StandardScaler\n",
    "sc = StandardScaler()\n",
    "\n",
    "X = sc.fit_transform(X)"
   ]
  },
  {
   "cell_type": "code",
   "execution_count": 29,
   "id": "vanilla-complement",
   "metadata": {},
   "outputs": [
    {
     "data": {
      "text/plain": [
       "LinearRegression()"
      ]
     },
     "execution_count": 29,
     "metadata": {},
     "output_type": "execute_result"
    }
   ],
   "source": [
    "from sklearn.linear_model import LinearRegression\n",
    "reg = LinearRegression()\n",
    "\n",
    "reg.fit(X,Y)"
   ]
  },
  {
   "cell_type": "code",
   "execution_count": 30,
   "id": "optional-white",
   "metadata": {},
   "outputs": [
    {
     "name": "stdout",
     "output_type": "stream",
     "text": [
      "R2: 0.9410599286583101\n",
      "RMSE: 0.08101629817472833\n"
     ]
    }
   ],
   "source": [
    "print(f'R2: {reg.score(X,Y)}')\n",
    "\n",
    "\n",
    "from sklearn.metrics import mean_squared_error\n",
    "Ypred = reg.predict(X)\n",
    "RMSE = mean_squared_error(Y,Ypred,squared = False)\n",
    "print(f'RMSE: {RMSE}')"
   ]
  },
  {
   "cell_type": "code",
   "execution_count": 31,
   "id": "polyphonic-onion",
   "metadata": {},
   "outputs": [
    {
     "name": "stdout",
     "output_type": "stream",
     "text": [
      "GrLivArea: 0.18374318684174157\n",
      "OverallQual: 0.07458822151873554\n",
      "OverallCond: 0.035823795673820005\n",
      "YearBuilt: 0.03137931569462753\n",
      "YrSinceUpdate: 0.004392269164177072\n",
      "ExterQual: 0.004075648467482769\n",
      "ExterCond: -0.021167643801287106\n",
      "BsmtQual: 0.0773506607717467\n",
      "BsmtCond: 0.0306827084094543\n",
      "HeatingQC: 0.006682771323363583\n",
      "Total_FullBaths: 0.03686597893991956\n",
      "Total_HalfBaths: 0.0021089364802419353\n",
      "FireplaceQu: 0.04201207390905411\n",
      "BedroomAbvGr: -0.011375650308694255\n",
      "KitchenQual: 0.0074039722646532455\n",
      "GarageQual: 0.017316618005525128\n",
      "GarageCond: 0.007996209943284985\n",
      "PoolQC: -2.0816681711721685e-17\n",
      "lat: 0.05243870575241063\n",
      "lon: 0.022057047819228338\n",
      "dist_stadium: -0.0029876356674291837\n",
      "dist_downtown: 0.05529515107955075\n",
      "dist_airport: -0.04643535562589495\n",
      "BldgType_2fmCon: 0.01208188977578378\n",
      "BldgType_Duplex: -0.013230964846106317\n",
      "BldgType_Twnhs: -0.02338620241014543\n",
      "BldgType_TwnhsE: -0.020213609524105627\n",
      "HouseStyle_1Story: 0.06708512877493017\n",
      "HouseStyle_2Story: 0.008835988793451922\n",
      "HouseStyle_SFoyer: 0.010419922023313688\n",
      "HouseStyle_SLvl: 0.0358560666859437\n",
      "CentralAir_Y: -0.003709526073038363\n",
      "BsmtFinType1_ALQ: -0.008876351120218989\n",
      "BsmtFinType1_BLQ: -0.019290312802214923\n",
      "BsmtFinType1_GLQ: -0.019541517317837306\n",
      "BsmtFinType1_Rec: -0.016052394895024268\n",
      "BsmtFinType2_ALQ: -0.0022191109679776536\n",
      "BsmtFinType2_BLQ: -0.015379789562182607\n",
      "BsmtFinType2_GLQ: -0.00689476504308142\n",
      "BsmtFinType2_Rec: -0.017783418289277986\n",
      "MiscFeature_None: 0.028075356231906\n",
      "MiscFeature_Shed: 0.019726783813361633\n",
      "Fence_GdWo: -0.003709982313781942\n",
      "Fence_MnPrv: -0.02103928737555269\n",
      "Fence_MnWw: -0.0002719682119416509\n",
      "Fence_None: -0.017338313578269062\n"
     ]
    }
   ],
   "source": [
    "for col, coef in zip(X_columns, reg.coef_):\n",
    "    print(f'{col}: {coef}')"
   ]
  },
  {
   "cell_type": "code",
   "execution_count": 32,
   "id": "covered-screening",
   "metadata": {
    "scrolled": true
   },
   "outputs": [
    {
     "data": {
      "text/plain": [
       "Text(0.5, 1.0, 'Standardized feature betas in log(SalePrice) linear model')"
      ]
     },
     "execution_count": 32,
     "metadata": {},
     "output_type": "execute_result"
    },
    {
     "data": {
      "image/png": "[encoded data removed]",
      "text/plain": [
       "<Figure size 1080x720 with 1 Axes>"
      ]
     },
     "metadata": {
      "needs_background": "light"
     },
     "output_type": "display_data"
    }
   ],
   "source": [
    "plt.figure(figsize = (15,10))\n",
    "plt.plot(range(len(X_columns)),reg.coef_,'bo:')\n",
    "plt.plot(range(len(X_columns)),np.array([0 for zero in range(len(X_columns))]),'k--',alpha = 0.49)\n",
    "plt.xticks(range(len(X_columns)),labels = X_columns, rotation = 90)\n",
    "plt.grid(color='r', linestyle='--', linewidth=0.5, axis = 'x',alpha = 0.5)\n",
    "plt.title('Standardized feature betas in log(SalePrice) linear model', fontsize = 15, fontweight = 'bold')"
   ]
  },
  {
   "cell_type": "code",
   "execution_count": 33,
   "id": "enormous-president",
   "metadata": {},
   "outputs": [
    {
     "name": "stdout",
     "output_type": "stream",
     "text": [
      "                            OLS Regression Results                            \n",
      "==============================================================================\n",
      "Dep. Variable:              SalePrice   R-squared:                       0.941\n",
      "Model:                            OLS   Adj. R-squared:                  0.920\n",
      "Method:                 Least Squares   F-statistic:                     45.42\n",
      "Date:                Sun, 07 Mar 2021   Prob (F-statistic):           4.83e-60\n",
      "Time:                        17:09:16   Log-Likelihood:                 190.38\n",
      "No. Observations:                 174   AIC:                            -288.8\n",
      "Df Residuals:                     128   BIC:                            -143.5\n",
      "Df Model:                          45                                         \n",
      "Covariance Type:            nonrobust                                         \n",
      "=====================================================================================\n",
      "                        coef    std err          t      P>|t|      [0.025      0.975]\n",
      "-------------------------------------------------------------------------------------\n",
      "constant             12.0094      0.007   1677.079      0.000      11.995      12.024\n",
      "GrLivArea             0.1837      0.017     11.020      0.000       0.151       0.217\n",
      "OverallQual           0.0746      0.014      5.214      0.000       0.046       0.103\n",
      "OverallCond           0.0358      0.010      3.425      0.001       0.015       0.057\n",
      "YearBuilt             0.0314      0.019      1.623      0.107      -0.007       0.070\n",
      "YrSinceUpdate         0.0044      0.012      0.382      0.703      -0.018       0.027\n",
      "ExterQual             0.0041      0.016      0.247      0.805      -0.029       0.037\n",
      "ExterCond            -0.0212      0.011     -2.008      0.047      -0.042      -0.000\n",
      "BsmtQual              0.0774      0.023      3.349      0.001       0.032       0.123\n",
      "BsmtCond              0.0307      0.024      1.283      0.202      -0.017       0.078\n",
      "HeatingQC             0.0067      0.010      0.669      0.505      -0.013       0.026\n",
      "Total_FullBaths       0.0369      0.013      2.911      0.004       0.012       0.062\n",
      "Total_HalfBaths       0.0021      0.011      0.190      0.849      -0.020       0.024\n",
      "FireplaceQu           0.0420      0.010      4.110      0.000       0.022       0.062\n",
      "BedroomAbvGr         -0.0114      0.013     -0.907      0.366      -0.036       0.013\n",
      "KitchenQual           0.0074      0.012      0.626      0.532      -0.016       0.031\n",
      "GarageQual            0.0173      0.020      0.884      0.378      -0.021       0.056\n",
      "GarageCond            0.0080      0.019      0.418      0.677      -0.030       0.046\n",
      "PoolQC             6.286e-17   8.29e-17      0.758      0.450   -1.01e-16    2.27e-16\n",
      "lat                   0.0524      0.063      0.828      0.409      -0.073       0.178\n",
      "lon                   0.0221      0.063      0.348      0.728      -0.103       0.147\n",
      "dist_stadium         -0.0030      0.047     -0.063      0.949      -0.096       0.090\n",
      "dist_downtown         0.0553      0.043      1.278      0.204      -0.030       0.141\n",
      "dist_airport         -0.0464      0.097     -0.480      0.632      -0.238       0.145\n",
      "BldgType_2fmCon       0.0121      0.009      1.339      0.183      -0.006       0.030\n",
      "BldgType_Duplex      -0.0132      0.013     -1.034      0.303      -0.039       0.012\n",
      "BldgType_Twnhs       -0.0234      0.008     -2.865      0.005      -0.040      -0.007\n",
      "BldgType_TwnhsE      -0.0202      0.009     -2.317      0.022      -0.037      -0.003\n",
      "HouseStyle_1Story     0.0671      0.019      3.581      0.000       0.030       0.104\n",
      "HouseStyle_2Story     0.0088      0.017      0.533      0.595      -0.024       0.042\n",
      "HouseStyle_SFoyer     0.0104      0.010      1.014      0.313      -0.010       0.031\n",
      "HouseStyle_SLvl       0.0359      0.014      2.489      0.014       0.007       0.064\n",
      "CentralAir_Y         -0.0037      0.009     -0.426      0.671      -0.021       0.014\n",
      "BsmtFinType1_ALQ     -0.0089      0.062     -0.143      0.887      -0.132       0.114\n",
      "BsmtFinType1_BLQ     -0.0193      0.056     -0.346      0.730      -0.130       0.091\n",
      "BsmtFinType1_GLQ     -0.0195      0.058     -0.338      0.736      -0.134       0.095\n",
      "BsmtFinType1_Rec     -0.0161      0.053     -0.303      0.762      -0.121       0.089\n",
      "BsmtFinType2_ALQ     -0.0022      0.041     -0.054      0.957      -0.083       0.078\n",
      "BsmtFinType2_BLQ     -0.0154      0.043     -0.356      0.722      -0.101       0.070\n",
      "BsmtFinType2_GLQ     -0.0069      0.030     -0.227      0.820      -0.067       0.053\n",
      "BsmtFinType2_Rec     -0.0178      0.049     -0.360      0.719      -0.115       0.080\n",
      "MiscFeature_None      0.0281      0.030      0.922      0.358      -0.032       0.088\n",
      "MiscFeature_Shed      0.0197      0.030      0.661      0.510      -0.039       0.079\n",
      "Fence_GdWo           -0.0037      0.012     -0.318      0.751      -0.027       0.019\n",
      "Fence_MnPrv          -0.0210      0.016     -1.288      0.200      -0.053       0.011\n",
      "Fence_MnWw           -0.0003      0.009     -0.030      0.976      -0.018       0.018\n",
      "Fence_None           -0.0173      0.018     -0.966      0.336      -0.053       0.018\n",
      "==============================================================================\n",
      "Omnibus:                        5.703   Durbin-Watson:                   2.296\n",
      "Prob(Omnibus):                  0.058   Jarque-Bera (JB):                7.509\n",
      "Skew:                           0.171   Prob(JB):                       0.0234\n",
      "Kurtosis:                       3.959   Cond. No.                     1.68e+16\n",
      "==============================================================================\n",
      "\n",
      "Notes:\n",
      "[1] Standard Errors assume that the covariance matrix of the errors is correctly specified.\n",
      "[2] The smallest eigenvalue is 4.1e-30. This might indicate that there are\n",
      "strong multicollinearity problems or that the design matrix is singular.\n",
      "                            OLS Regression Results                            \n",
      "==============================================================================\n",
      "Dep. Variable:              SalePrice   R-squared:                       0.941\n",
      "Model:                            OLS   Adj. R-squared:                  0.920\n",
      "Method:                 Least Squares   F-statistic:                     45.42\n",
      "Date:                Sun, 07 Mar 2021   Prob (F-statistic):           4.83e-60\n",
      "Time:                        17:09:16   Log-Likelihood:                 190.38\n",
      "No. Observations:                 174   AIC:                            -288.8\n",
      "Df Residuals:                     128   BIC:                            -143.5\n",
      "Df Model:                          45                                         \n",
      "Covariance Type:            nonrobust                                         \n",
      "==============================================================================\n",
      "                 coef    std err          t      P>|t|      [0.025      0.975]\n",
      "------------------------------------------------------------------------------\n",
      "const         12.0094      0.007   1677.079      0.000      11.995      12.024\n",
      "x1             0.1837      0.017     11.020      0.000       0.151       0.217\n",
      "x2             0.0746      0.014      5.214      0.000       0.046       0.103\n",
      "x3             0.0358      0.010      3.425      0.001       0.015       0.057\n",
      "x4             0.0314      0.019      1.623      0.107      -0.007       0.070\n",
      "x5             0.0044      0.012      0.382      0.703      -0.018       0.027\n",
      "x6             0.0041      0.016      0.247      0.805      -0.029       0.037\n",
      "x7            -0.0212      0.011     -2.008      0.047      -0.042      -0.000\n",
      "x8             0.0774      0.023      3.349      0.001       0.032       0.123\n",
      "x9             0.0307      0.024      1.283      0.202      -0.017       0.078\n",
      "x10            0.0067      0.010      0.669      0.505      -0.013       0.026\n",
      "x11            0.0369      0.013      2.911      0.004       0.012       0.062\n",
      "x12            0.0021      0.011      0.190      0.849      -0.020       0.024\n",
      "x13            0.0420      0.010      4.110      0.000       0.022       0.062\n",
      "x14           -0.0114      0.013     -0.907      0.366      -0.036       0.013\n",
      "x15            0.0074      0.012      0.626      0.532      -0.016       0.031\n",
      "x16            0.0173      0.020      0.884      0.378      -0.021       0.056\n",
      "x17            0.0080      0.019      0.418      0.677      -0.030       0.046\n",
      "x18         6.286e-17   8.29e-17      0.758      0.450   -1.01e-16    2.27e-16\n",
      "x19            0.0524      0.063      0.828      0.409      -0.073       0.178\n",
      "x20            0.0221      0.063      0.348      0.728      -0.103       0.147\n",
      "x21           -0.0030      0.047     -0.063      0.949      -0.096       0.090\n",
      "x22            0.0553      0.043      1.278      0.204      -0.030       0.141\n",
      "x23           -0.0464      0.097     -0.480      0.632      -0.238       0.145\n",
      "x24            0.0121      0.009      1.339      0.183      -0.006       0.030\n",
      "x25           -0.0132      0.013     -1.034      0.303      -0.039       0.012\n",
      "x26           -0.0234      0.008     -2.865      0.005      -0.040      -0.007\n",
      "x27           -0.0202      0.009     -2.317      0.022      -0.037      -0.003\n",
      "x28            0.0671      0.019      3.581      0.000       0.030       0.104\n",
      "x29            0.0088      0.017      0.533      0.595      -0.024       0.042\n",
      "x30            0.0104      0.010      1.014      0.313      -0.010       0.031\n",
      "x31            0.0359      0.014      2.489      0.014       0.007       0.064\n",
      "x32           -0.0037      0.009     -0.426      0.671      -0.021       0.014\n",
      "x33           -0.0089      0.062     -0.143      0.887      -0.132       0.114\n",
      "x34           -0.0193      0.056     -0.346      0.730      -0.130       0.091\n",
      "x35           -0.0195      0.058     -0.338      0.736      -0.134       0.095\n",
      "x36           -0.0161      0.053     -0.303      0.762      -0.121       0.089\n",
      "x37           -0.0022      0.041     -0.054      0.957      -0.083       0.078\n",
      "x38           -0.0154      0.043     -0.356      0.722      -0.101       0.070\n",
      "x39           -0.0069      0.030     -0.227      0.820      -0.067       0.053\n",
      "x40           -0.0178      0.049     -0.360      0.719      -0.115       0.080\n",
      "x41            0.0281      0.030      0.922      0.358      -0.032       0.088\n",
      "x42            0.0197      0.030      0.661      0.510      -0.039       0.079\n",
      "x43           -0.0037      0.012     -0.318      0.751      -0.027       0.019\n",
      "x44           -0.0210      0.016     -1.288      0.200      -0.053       0.011\n",
      "x45           -0.0003      0.009     -0.030      0.976      -0.018       0.018\n",
      "x46           -0.0173      0.018     -0.966      0.336      -0.053       0.018\n",
      "==============================================================================\n",
      "Omnibus:                        5.703   Durbin-Watson:                   2.296\n",
      "Prob(Omnibus):                  0.058   Jarque-Bera (JB):                7.509\n",
      "Skew:                           0.171   Prob(JB):                       0.0234\n",
      "Kurtosis:                       3.959   Cond. No.                     1.68e+16\n",
      "==============================================================================\n",
      "\n",
      "Notes:\n",
      "[1] Standard Errors assume that the covariance matrix of the errors is correctly specified.\n",
      "[2] The smallest eigenvalue is 4.1e-30. This might indicate that there are\n",
      "strong multicollinearity problems or that the design matrix is singular.\n"
     ]
    }
   ],
   "source": [
    "import statsmodels.api as sm\n",
    "X = sm.add_constant(X)\n",
    "OLS = sm.OLS(Y,X)\n",
    "results = OLS.fit()\n",
    "\n",
    "\n",
    "names = X_columns.tolist()\n",
    "names.insert(0,'constant')\n",
    "print(results.summary(xname = names))\n",
    "print(results.summary())"
   ]
  },
  {
   "cell_type": "markdown",
   "id": "warming-sister",
   "metadata": {},
   "source": [
    "## Reducing multicollinearity using VIF"
   ]
  },
  {
   "cell_type": "code",
   "execution_count": 34,
   "id": "handmade-spell",
   "metadata": {},
   "outputs": [],
   "source": [
    "from statsmodels.stats.outliers_influence import variance_inflation_factor \n",
    "  \n",
    "# VIF dataframe \n",
    "vif_data = pd.DataFrame() \n",
    "vif_data[\"feature\"] = X_columns\n",
    "  \n",
    "# calculating VIF for each feature \n",
    "vif_data[\"VIF\"] = [variance_inflation_factor(dummy.values,i) for i in range(len(X_columns))]"
   ]
  },
  {
   "cell_type": "code",
   "execution_count": 35,
   "id": "specified-blues",
   "metadata": {},
   "outputs": [],
   "source": [
    "good_vif = vif_data[vif_data['VIF']<=5]"
   ]
  },
  {
   "cell_type": "code",
   "execution_count": 36,
   "id": "violent-cursor",
   "metadata": {},
   "outputs": [
    {
     "name": "stdout",
     "output_type": "stream",
     "text": [
      "                            OLS Regression Results                            \n",
      "==============================================================================\n",
      "Dep. Variable:              SalePrice   R-squared:                       0.840\n",
      "Model:                            OLS   Adj. R-squared:                  0.821\n",
      "Method:                 Least Squares   F-statistic:                     42.66\n",
      "Date:                Sun, 07 Mar 2021   Prob (F-statistic):           1.55e-51\n",
      "Time:                        17:09:17   Log-Likelihood:                 103.69\n",
      "No. Observations:                 174   AIC:                            -167.4\n",
      "Df Residuals:                     154   BIC:                            -104.2\n",
      "Df Model:                          19                                         \n",
      "Covariance Type:            nonrobust                                         \n",
      "=====================================================================================\n",
      "                        coef    std err          t      P>|t|      [0.025      0.975]\n",
      "-------------------------------------------------------------------------------------\n",
      "constant             12.0094      0.011   1117.710      0.000      11.988      12.031\n",
      "OverallQual           0.1526      0.016      9.774      0.000       0.122       0.183\n",
      "OverallCond           0.0168      0.013      1.309      0.193      -0.009       0.042\n",
      "YrSinceUpdate        -0.0031      0.014     -0.221      0.826      -0.031       0.025\n",
      "ExterCond            -0.0278      0.013     -2.219      0.028      -0.053      -0.003\n",
      "HeatingQC             0.0026      0.013      0.203      0.839      -0.023       0.028\n",
      "Total_FullBaths       0.1144      0.015      7.615      0.000       0.085       0.144\n",
      "Total_HalfBaths       0.0417      0.012      3.443      0.001       0.018       0.066\n",
      "FireplaceQu           0.0824      0.012      6.763      0.000       0.058       0.106\n",
      "BedroomAbvGr          0.0121      0.014      0.887      0.376      -0.015       0.039\n",
      "KitchenQual           0.0418      0.015      2.780      0.006       0.012       0.071\n",
      "BldgType_2fmCon      -0.0182      0.012     -1.571      0.118      -0.041       0.005\n",
      "BldgType_Duplex      -0.0178      0.013     -1.369      0.173      -0.043       0.008\n",
      "BldgType_Twnhs       -0.0434      0.011     -3.822      0.000      -0.066      -0.021\n",
      "BldgType_TwnhsE      -0.0268      0.012     -2.259      0.025      -0.050      -0.003\n",
      "HouseStyle_SFoyer    -0.0089      0.011     -0.796      0.427      -0.031       0.013\n",
      "HouseStyle_SLvl      -0.0023      0.011     -0.198      0.844      -0.025       0.020\n",
      "CentralAir_Y          0.0096      0.011      0.857      0.393      -0.013       0.032\n",
      "Fence_GdWo           -0.0035      0.011     -0.316      0.752      -0.026       0.018\n",
      "Fence_MnWw           -0.0017      0.011     -0.155      0.877      -0.024       0.020\n",
      "==============================================================================\n",
      "Omnibus:                        0.742   Durbin-Watson:                   1.898\n",
      "Prob(Omnibus):                  0.690   Jarque-Bera (JB):                0.423\n",
      "Skew:                           0.071   Prob(JB):                        0.809\n",
      "Kurtosis:                       3.195   Cond. No.                         3.19\n",
      "==============================================================================\n",
      "\n",
      "Notes:\n",
      "[1] Standard Errors assume that the covariance matrix of the errors is correctly specified.\n"
     ]
    }
   ],
   "source": [
    "X = dummy[good_vif['feature']]\n",
    "X_columns = X.columns\n",
    "X = sc.fit_transform(X)\n",
    "X = sm.add_constant(X)\n",
    "OLS = sm.OLS(Y,X)\n",
    "results = OLS.fit()\n",
    "\n",
    "\n",
    "names = X_columns.tolist()\n",
    "names.insert(0,'constant')\n",
    "print(results.summary(xname = names))"
   ]
  },
  {
   "cell_type": "markdown",
   "id": "utility-fight",
   "metadata": {},
   "source": [
    "<p>Reducing multicollinearity using VIF method decreases R2 by .10</p>"
   ]
  }
 ],
 "metadata": {
  "kernelspec": {
   "display_name": "Python 3",
   "language": "python",
   "name": "python3"
  },
  "language_info": {
   "codemirror_mode": {
    "name": "ipython",
    "version": 3
   },
   "file_extension": ".py",
   "mimetype": "text/x-python",
   "name": "python",
   "nbconvert_exporter": "python",
   "pygments_lexer": "ipython3",
   "version": "3.7.0"
  }
 },
 "nbformat": 4,
 "nbformat_minor": 5
}
