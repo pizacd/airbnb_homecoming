{
 "cells": [
  {
   "cell_type": "markdown",
   "metadata": {},
   "source": [
    "# Locations and distance to landmarks in Ames"
   ]
  },
  {
   "cell_type": "markdown",
   "metadata": {},
   "source": [
    "For the descriptive section of our project we are interested on how close the houses are to areas of potential interest for the tourists. These areas include the Stadium of the Iowa State University, Downtown entertainment and restaurants, as well as the local Airport."
   ]
  },
  {
   "cell_type": "markdown",
   "metadata": {},
   "source": [
    "To obtain the location of each house we need the Real Estate Data"
   ]
  },
  {
   "cell_type": "code",
   "execution_count": 2,
   "metadata": {},
   "outputs": [
    {
     "data": {
      "text/plain": [
       "Index(['GeoRefNo', 'Tier', 'Range', 'Prop_Addr', 'ZngCdPr', 'ZngCdSc',\n",
       "       'ZngOLPr', 'ZngOLSc', 'ClassPr_S', 'ClassSc_S', 'Legal_Pr', 'SchD_S',\n",
       "       'TxD_S', 'MA_Ownr1', 'MA_Ownr2', 'MA_Line1', 'MA_Line2', 'MA_City',\n",
       "       'MA_State', 'MA_Zip1', 'MA_Zip2', 'Rcrd_Yr', 'Rcrd_Mo', 'Inst1_No',\n",
       "       'Inst1_Yr', 'Inst1_Mo', 'Inst1TPr', 'LndAc_S', 'ImpAc_S', 'OthAc_S',\n",
       "       'TtlVal_AsrYr', 'ValType', 'X1TPr_D', 'X1TSc_D', 'X2TPr_D', 'X2TSc_D',\n",
       "       'X1TPr_S', 'X1TSc_S', 'X2TPr_S', 'X2TSc_S', 'LndAcX1S', 'ImpAcX1S',\n",
       "       'ImpAcX2S', 'HSTtl_D', 'MilVal_D', 'HSTtl_S', 'MilVal_S', 'AcreX_S1',\n",
       "       'AcreGr', 'AcreNt_S', 'Neighborhood', 'LotArea', 'ParType', 'BldgNo_S',\n",
       "       'DwlgNo_S', 'BldgType', 'YrBuilt', 'HouseStyle', 'Foundation',\n",
       "       'RoofMatl', 'Ext1', 'Ext2', 'MasVnrType', 'Heating', 'Central Air',\n",
       "       'GLA', 'TtlBsmtSF', 'TotRmsAbvGrd', 'Fireplaces', 'PoolArea',\n",
       "       'GarageType', 'GarYrBlt', 'Cars', 'GarageArea', 'YrSold_YYYY',\n",
       "       'MoSold_MM', 'SalePrice', 'SaleType', 'SaleCond', 'ParclRel', 'PA-Nmbr',\n",
       "       'PA-PreD', 'PA-Strt', 'PA-StSfx', 'PA-PostD', 'PA-UnTyp', 'PA-UntNo',\n",
       "       'Date', 'Source', 'NmbrBRs'],\n",
       "      dtype='object')"
      ]
     },
     "execution_count": 2,
     "metadata": {},
     "output_type": "execute_result"
    }
   ],
   "source": [
    "import pandas as pd\n",
    "import numpy as np\n",
    "\n",
    "\n",
    "realE_df = pd.read_csv('../data/Ames_Real_Estate_Data.csv', index_col=0, low_memory=False)\n",
    "realE_df.columns"
   ]
  },
  {
   "cell_type": "code",
   "execution_count": 3,
   "metadata": {},
   "outputs": [],
   "source": [
    "raw_data = pd.read_csv('../data/Ames_Housing_Price_Data.csv', index_col=0)"
   ]
  },
  {
   "cell_type": "markdown",
   "metadata": {},
   "source": [
    "We merge the two data sets on PID/MapRefNo columns"
   ]
  },
  {
   "cell_type": "code",
   "execution_count": 4,
   "metadata": {},
   "outputs": [
    {
     "data": {
      "text/html": [
       "<div>\n",
       "<style scoped>\n",
       "    .dataframe tbody tr th:only-of-type {\n",
       "        vertical-align: middle;\n",
       "    }\n",
       "\n",
       "    .dataframe tbody tr th {\n",
       "        vertical-align: top;\n",
       "    }\n",
       "\n",
       "    .dataframe thead th {\n",
       "        text-align: right;\n",
       "    }\n",
       "</style>\n",
       "<table border=\"1\" class=\"dataframe\">\n",
       "  <thead>\n",
       "    <tr style=\"text-align: right;\">\n",
       "      <th></th>\n",
       "      <th>PID</th>\n",
       "      <th>GrLivArea</th>\n",
       "      <th>SalePrice_x</th>\n",
       "      <th>MSSubClass</th>\n",
       "      <th>MSZoning</th>\n",
       "      <th>LotFrontage</th>\n",
       "      <th>LotArea_x</th>\n",
       "      <th>Street</th>\n",
       "      <th>Alley</th>\n",
       "      <th>LotShape</th>\n",
       "      <th>...</th>\n",
       "      <th>PA-Nmbr</th>\n",
       "      <th>PA-PreD</th>\n",
       "      <th>PA-Strt</th>\n",
       "      <th>PA-StSfx</th>\n",
       "      <th>PA-PostD</th>\n",
       "      <th>PA-UnTyp</th>\n",
       "      <th>PA-UntNo</th>\n",
       "      <th>Date</th>\n",
       "      <th>Source</th>\n",
       "      <th>NmbrBRs</th>\n",
       "    </tr>\n",
       "  </thead>\n",
       "  <tbody>\n",
       "    <tr>\n",
       "      <th>1838</th>\n",
       "      <td>905478220</td>\n",
       "      <td>1480</td>\n",
       "      <td>136500</td>\n",
       "      <td>50</td>\n",
       "      <td>RL</td>\n",
       "      <td>60.0</td>\n",
       "      <td>11100</td>\n",
       "      <td>Pave</td>\n",
       "      <td>NaN</td>\n",
       "      <td>Reg</td>\n",
       "      <td>...</td>\n",
       "      <td>3123</td>\n",
       "      <td>NaN</td>\n",
       "      <td>STORY</td>\n",
       "      <td>ST</td>\n",
       "      <td>NaN</td>\n",
       "      <td>NaN</td>\n",
       "      <td>NaN</td>\n",
       "      <td>10-Jul-20</td>\n",
       "      <td>Ames City Assessor</td>\n",
       "      <td>4.0</td>\n",
       "    </tr>\n",
       "    <tr>\n",
       "      <th>406</th>\n",
       "      <td>528181060</td>\n",
       "      <td>1554</td>\n",
       "      <td>209500</td>\n",
       "      <td>120</td>\n",
       "      <td>RL</td>\n",
       "      <td>34.0</td>\n",
       "      <td>4590</td>\n",
       "      <td>Pave</td>\n",
       "      <td>NaN</td>\n",
       "      <td>Reg</td>\n",
       "      <td>...</td>\n",
       "      <td>2908</td>\n",
       "      <td>NaN</td>\n",
       "      <td>ROXBORO</td>\n",
       "      <td>DR</td>\n",
       "      <td>NaN</td>\n",
       "      <td>NaN</td>\n",
       "      <td>NaN</td>\n",
       "      <td>10-Jul-20</td>\n",
       "      <td>Ames City Assessor</td>\n",
       "      <td>2.0</td>\n",
       "    </tr>\n",
       "    <tr>\n",
       "      <th>2375</th>\n",
       "      <td>910200080</td>\n",
       "      <td>919</td>\n",
       "      <td>126000</td>\n",
       "      <td>30</td>\n",
       "      <td>RM</td>\n",
       "      <td>50.0</td>\n",
       "      <td>7000</td>\n",
       "      <td>Pave</td>\n",
       "      <td>NaN</td>\n",
       "      <td>Reg</td>\n",
       "      <td>...</td>\n",
       "      <td>121</td>\n",
       "      <td>S</td>\n",
       "      <td>RUSSELL</td>\n",
       "      <td>AVE</td>\n",
       "      <td>NaN</td>\n",
       "      <td>NaN</td>\n",
       "      <td>NaN</td>\n",
       "      <td>10-Jul-20</td>\n",
       "      <td>Ames City Assessor</td>\n",
       "      <td>2.0</td>\n",
       "    </tr>\n",
       "    <tr>\n",
       "      <th>2407</th>\n",
       "      <td>911104060</td>\n",
       "      <td>572</td>\n",
       "      <td>75000</td>\n",
       "      <td>30</td>\n",
       "      <td>C (all)</td>\n",
       "      <td>60.0</td>\n",
       "      <td>10200</td>\n",
       "      <td>Pave</td>\n",
       "      <td>Grvl</td>\n",
       "      <td>Reg</td>\n",
       "      <td>...</td>\n",
       "      <td>317</td>\n",
       "      <td>NaN</td>\n",
       "      <td>WASHINGTON</td>\n",
       "      <td>AVE</td>\n",
       "      <td>NaN</td>\n",
       "      <td>NaN</td>\n",
       "      <td>NaN</td>\n",
       "      <td>10-Jul-20</td>\n",
       "      <td>Ames City Assessor</td>\n",
       "      <td>NaN</td>\n",
       "    </tr>\n",
       "    <tr>\n",
       "      <th>1979</th>\n",
       "      <td>907192030</td>\n",
       "      <td>1660</td>\n",
       "      <td>195000</td>\n",
       "      <td>60</td>\n",
       "      <td>RL</td>\n",
       "      <td>68.0</td>\n",
       "      <td>8935</td>\n",
       "      <td>Pave</td>\n",
       "      <td>NaN</td>\n",
       "      <td>IR1</td>\n",
       "      <td>...</td>\n",
       "      <td>5313</td>\n",
       "      <td>NaN</td>\n",
       "      <td>CLEMENS</td>\n",
       "      <td>BLVD</td>\n",
       "      <td>NaN</td>\n",
       "      <td>NaN</td>\n",
       "      <td>NaN</td>\n",
       "      <td>10-Jul-20</td>\n",
       "      <td>Ames City Assessor</td>\n",
       "      <td>3.0</td>\n",
       "    </tr>\n",
       "    <tr>\n",
       "      <th>889</th>\n",
       "      <td>534126090</td>\n",
       "      <td>1682</td>\n",
       "      <td>174000</td>\n",
       "      <td>20</td>\n",
       "      <td>RL</td>\n",
       "      <td>80.0</td>\n",
       "      <td>10400</td>\n",
       "      <td>Pave</td>\n",
       "      <td>NaN</td>\n",
       "      <td>Reg</td>\n",
       "      <td>...</td>\n",
       "      <td>2617</td>\n",
       "      <td>NaN</td>\n",
       "      <td>CLEVELAND</td>\n",
       "      <td>DR</td>\n",
       "      <td>NaN</td>\n",
       "      <td>NaN</td>\n",
       "      <td>NaN</td>\n",
       "      <td>10-Jul-20</td>\n",
       "      <td>Ames City Assessor</td>\n",
       "      <td>3.0</td>\n",
       "    </tr>\n",
       "    <tr>\n",
       "      <th>0</th>\n",
       "      <td>526301100</td>\n",
       "      <td>1656</td>\n",
       "      <td>215000</td>\n",
       "      <td>20</td>\n",
       "      <td>RL</td>\n",
       "      <td>141.0</td>\n",
       "      <td>31770</td>\n",
       "      <td>Pave</td>\n",
       "      <td>NaN</td>\n",
       "      <td>IR1</td>\n",
       "      <td>...</td>\n",
       "      <td>3126</td>\n",
       "      <td>NaN</td>\n",
       "      <td>NORTHWOOD</td>\n",
       "      <td>DR</td>\n",
       "      <td>NaN</td>\n",
       "      <td>NaN</td>\n",
       "      <td>NaN</td>\n",
       "      <td>10-Jul-20</td>\n",
       "      <td>Ames City Assessor</td>\n",
       "      <td>3.0</td>\n",
       "    </tr>\n",
       "    <tr>\n",
       "      <th>2538</th>\n",
       "      <td>923225240</td>\n",
       "      <td>1475</td>\n",
       "      <td>127000</td>\n",
       "      <td>160</td>\n",
       "      <td>RM</td>\n",
       "      <td>41.0</td>\n",
       "      <td>2665</td>\n",
       "      <td>Pave</td>\n",
       "      <td>NaN</td>\n",
       "      <td>Reg</td>\n",
       "      <td>...</td>\n",
       "      <td>3472</td>\n",
       "      <td>NaN</td>\n",
       "      <td>SOUTHDALE</td>\n",
       "      <td>DR</td>\n",
       "      <td>NaN</td>\n",
       "      <td>NaN</td>\n",
       "      <td>NaN</td>\n",
       "      <td>10-Jul-20</td>\n",
       "      <td>Ames City Assessor</td>\n",
       "      <td>4.0</td>\n",
       "    </tr>\n",
       "    <tr>\n",
       "      <th>1874</th>\n",
       "      <td>906225210</td>\n",
       "      <td>996</td>\n",
       "      <td>147000</td>\n",
       "      <td>85</td>\n",
       "      <td>RL</td>\n",
       "      <td>73.0</td>\n",
       "      <td>9069</td>\n",
       "      <td>Pave</td>\n",
       "      <td>NaN</td>\n",
       "      <td>Reg</td>\n",
       "      <td>...</td>\n",
       "      <td>913</td>\n",
       "      <td>NaN</td>\n",
       "      <td>DELAWARE</td>\n",
       "      <td>AVE</td>\n",
       "      <td>NaN</td>\n",
       "      <td>NaN</td>\n",
       "      <td>NaN</td>\n",
       "      <td>10-Jul-20</td>\n",
       "      <td>Ames City Assessor</td>\n",
       "      <td>2.0</td>\n",
       "    </tr>\n",
       "    <tr>\n",
       "      <th>1552</th>\n",
       "      <td>903231080</td>\n",
       "      <td>1136</td>\n",
       "      <td>123000</td>\n",
       "      <td>50</td>\n",
       "      <td>RM</td>\n",
       "      <td>52.0</td>\n",
       "      <td>6240</td>\n",
       "      <td>Pave</td>\n",
       "      <td>NaN</td>\n",
       "      <td>Reg</td>\n",
       "      <td>...</td>\n",
       "      <td>1023</td>\n",
       "      <td>NaN</td>\n",
       "      <td>MARSTON</td>\n",
       "      <td>AVE</td>\n",
       "      <td>NaN</td>\n",
       "      <td>NaN</td>\n",
       "      <td>NaN</td>\n",
       "      <td>10-Jul-20</td>\n",
       "      <td>Ames City Assessor</td>\n",
       "      <td>2.0</td>\n",
       "    </tr>\n",
       "  </tbody>\n",
       "</table>\n",
       "<p>10 rows × 171 columns</p>\n",
       "</div>"
      ],
      "text/plain": [
       "            PID  GrLivArea  SalePrice_x  MSSubClass MSZoning  LotFrontage  \\\n",
       "1838  905478220       1480       136500          50       RL         60.0   \n",
       "406   528181060       1554       209500         120       RL         34.0   \n",
       "2375  910200080        919       126000          30       RM         50.0   \n",
       "2407  911104060        572        75000          30  C (all)         60.0   \n",
       "1979  907192030       1660       195000          60       RL         68.0   \n",
       "889   534126090       1682       174000          20       RL         80.0   \n",
       "0     526301100       1656       215000          20       RL        141.0   \n",
       "2538  923225240       1475       127000         160       RM         41.0   \n",
       "1874  906225210        996       147000          85       RL         73.0   \n",
       "1552  903231080       1136       123000          50       RM         52.0   \n",
       "\n",
       "      LotArea_x Street Alley LotShape  ... PA-Nmbr PA-PreD     PA-Strt  \\\n",
       "1838      11100   Pave   NaN      Reg  ...    3123     NaN       STORY   \n",
       "406        4590   Pave   NaN      Reg  ...    2908     NaN     ROXBORO   \n",
       "2375       7000   Pave   NaN      Reg  ...     121       S     RUSSELL   \n",
       "2407      10200   Pave  Grvl      Reg  ...     317     NaN  WASHINGTON   \n",
       "1979       8935   Pave   NaN      IR1  ...    5313     NaN     CLEMENS   \n",
       "889       10400   Pave   NaN      Reg  ...    2617     NaN   CLEVELAND   \n",
       "0         31770   Pave   NaN      IR1  ...    3126     NaN   NORTHWOOD   \n",
       "2538       2665   Pave   NaN      Reg  ...    3472     NaN   SOUTHDALE   \n",
       "1874       9069   Pave   NaN      Reg  ...     913     NaN    DELAWARE   \n",
       "1552       6240   Pave   NaN      Reg  ...    1023     NaN     MARSTON   \n",
       "\n",
       "     PA-StSfx PA-PostD PA-UnTyp PA-UntNo       Date              Source  \\\n",
       "1838       ST      NaN      NaN      NaN  10-Jul-20  Ames City Assessor   \n",
       "406        DR      NaN      NaN      NaN  10-Jul-20  Ames City Assessor   \n",
       "2375      AVE      NaN      NaN      NaN  10-Jul-20  Ames City Assessor   \n",
       "2407      AVE      NaN      NaN      NaN  10-Jul-20  Ames City Assessor   \n",
       "1979     BLVD      NaN      NaN      NaN  10-Jul-20  Ames City Assessor   \n",
       "889        DR      NaN      NaN      NaN  10-Jul-20  Ames City Assessor   \n",
       "0          DR      NaN      NaN      NaN  10-Jul-20  Ames City Assessor   \n",
       "2538       DR      NaN      NaN      NaN  10-Jul-20  Ames City Assessor   \n",
       "1874      AVE      NaN      NaN      NaN  10-Jul-20  Ames City Assessor   \n",
       "1552      AVE      NaN      NaN      NaN  10-Jul-20  Ames City Assessor   \n",
       "\n",
       "      NmbrBRs  \n",
       "1838      4.0  \n",
       "406       2.0  \n",
       "2375      2.0  \n",
       "2407      NaN  \n",
       "1979      3.0  \n",
       "889       3.0  \n",
       "0         3.0  \n",
       "2538      4.0  \n",
       "1874      2.0  \n",
       "1552      2.0  \n",
       "\n",
       "[10 rows x 171 columns]"
      ]
     },
     "execution_count": 4,
     "metadata": {},
     "output_type": "execute_result"
    }
   ],
   "source": [
    "full_df = pd.merge(\n",
    "    raw_data,\n",
    "    realE_df,\n",
    "    how=\"left\",\n",
    "    left_on='PID',\n",
    "    right_on='MapRefNo',\n",
    "    sort=True,\n",
    "    suffixes=(\"_x\", \"_y\"),\n",
    "    copy=False)\n",
    "\n",
    "full_df.sample(10)"
   ]
  },
  {
   "cell_type": "markdown",
   "metadata": {},
   "source": [
    "Use geopy to:\n",
    "            1)Obtain the coordinates of each house\n",
    "            2)Compute the Euclidean distances"
   ]
  },
  {
   "cell_type": "code",
   "execution_count": 28,
   "metadata": {},
   "outputs": [],
   "source": [
    "import geopy\n",
    "from geopy import Nominatim\n",
    "from geopy.extra.rate_limiter import RateLimiter\n",
    "\n",
    "locator = Nominatim(user_agent=\"myGeocoder\")\n",
    "geocode = RateLimiter(locator.geocode, min_delay_seconds=1.5)"
   ]
  },
  {
   "cell_type": "markdown",
   "metadata": {},
   "source": [
    "full_geocodes =[geocode(addr+', Ames, IA , USA') if type(addr)==str else None for addr in full_df['Prop_Addr']] #don't run this unless you have a couple hours"
   ]
  },
  {
   "cell_type": "code",
   "execution_count": 111,
   "metadata": {},
   "outputs": [],
   "source": [
    "full_coord = []\n",
    "for i in range(0,len(full_geocodes)):\n",
    "    try:\n",
    "        coord = full_geocodes[i][1]\n",
    "        \n",
    "    except:\n",
    "        coord = None\n",
    "    \n",
    "    full_coord.append(coord)"
   ]
  },
  {
   "cell_type": "code",
   "execution_count": 113,
   "metadata": {},
   "outputs": [],
   "source": [
    "full_df[\"coord\"] = full_coord"
   ]
  },
  {
   "cell_type": "code",
   "execution_count": 19,
   "metadata": {},
   "outputs": [
    {
     "data": {
      "text/html": [
       "<div>\n",
       "<style scoped>\n",
       "    .dataframe tbody tr th:only-of-type {\n",
       "        vertical-align: middle;\n",
       "    }\n",
       "\n",
       "    .dataframe tbody tr th {\n",
       "        vertical-align: top;\n",
       "    }\n",
       "\n",
       "    .dataframe thead th {\n",
       "        text-align: right;\n",
       "    }\n",
       "</style>\n",
       "<table border=\"1\" class=\"dataframe\">\n",
       "  <thead>\n",
       "    <tr style=\"text-align: right;\">\n",
       "      <th></th>\n",
       "      <th>PID</th>\n",
       "      <th>GrLivArea</th>\n",
       "      <th>SalePrice</th>\n",
       "      <th>MSSubClass</th>\n",
       "      <th>MSZoning</th>\n",
       "      <th>LotFrontage</th>\n",
       "      <th>LotArea_x</th>\n",
       "      <th>Street</th>\n",
       "      <th>Alley</th>\n",
       "      <th>LotShape</th>\n",
       "      <th>...</th>\n",
       "      <th>Date</th>\n",
       "      <th>Source</th>\n",
       "      <th>NmbrBRs</th>\n",
       "      <th>coord</th>\n",
       "      <th>dist_stadium</th>\n",
       "      <th>dist_downtown</th>\n",
       "      <th>dist_airport</th>\n",
       "      <th>PricePerSqft</th>\n",
       "      <th>lat</th>\n",
       "      <th>lon</th>\n",
       "    </tr>\n",
       "  </thead>\n",
       "  <tbody>\n",
       "    <tr>\n",
       "      <th>1059</th>\n",
       "      <td>534477030</td>\n",
       "      <td>2136</td>\n",
       "      <td>137900</td>\n",
       "      <td>20</td>\n",
       "      <td>RL</td>\n",
       "      <td>89.0</td>\n",
       "      <td>10680</td>\n",
       "      <td>Pave</td>\n",
       "      <td>NaN</td>\n",
       "      <td>Reg</td>\n",
       "      <td>...</td>\n",
       "      <td>10-Jul-20</td>\n",
       "      <td>Ames City Assessor</td>\n",
       "      <td>4.0</td>\n",
       "      <td>(42.03739596957785, -93.62268066172075)</td>\n",
       "      <td>2.589402</td>\n",
       "      <td>1.550593</td>\n",
       "      <td>4.270146</td>\n",
       "      <td>64.559925</td>\n",
       "      <td>42.03739596957785</td>\n",
       "      <td>-93.62268066172075</td>\n",
       "    </tr>\n",
       "  </tbody>\n",
       "</table>\n",
       "<p>1 rows × 178 columns</p>\n",
       "</div>"
      ],
      "text/plain": [
       "            PID  GrLivArea  SalePrice  MSSubClass MSZoning  LotFrontage  \\\n",
       "1059  534477030       2136     137900          20       RL         89.0   \n",
       "\n",
       "      LotArea_x Street Alley LotShape  ...       Date              Source  \\\n",
       "1059      10680   Pave   NaN      Reg  ...  10-Jul-20  Ames City Assessor   \n",
       "\n",
       "     NmbrBRs                                    coord dist_stadium  \\\n",
       "1059     4.0  (42.03739596957785, -93.62268066172075)     2.589402   \n",
       "\n",
       "     dist_downtown dist_airport PricePerSqft                lat  \\\n",
       "1059      1.550593     4.270146    64.559925  42.03739596957785   \n",
       "\n",
       "                      lon  \n",
       "1059   -93.62268066172075  \n",
       "\n",
       "[1 rows x 178 columns]"
      ]
     },
     "execution_count": 19,
     "metadata": {},
     "output_type": "execute_result"
    }
   ],
   "source": [
    "full_df = pd.read_csv('../data/full_wCoord.csv')\n",
    "new = full_df[\"coord\"].str.replace('(', '').str.replace(')', '').str.split(\",\", n = 1, expand = True)\n",
    "full_df['lat']= new[0]\n",
    "full_df['lon']= new[1]\n",
    "full_df.sample()"
   ]
  },
  {
   "cell_type": "code",
   "execution_count": 121,
   "metadata": {},
   "outputs": [
    {
     "data": {
      "text/plain": [
       "88"
      ]
     },
     "execution_count": 121,
     "metadata": {},
     "output_type": "execute_result"
    }
   ],
   "source": [
    "full_df['']\n",
    "full_df['coord'].isnull().sum()"
   ]
  },
  {
   "cell_type": "code",
   "execution_count": 135,
   "metadata": {},
   "outputs": [
    {
     "data": {
      "text/plain": [
       "127                      1309 kinyon cir\n",
       "128                      1303 kinyon cir\n",
       "129                      1210 kinyon cir\n",
       "130                      1316 kinyon cir\n",
       "415                     3703 chilton ave\n",
       "416                     3629 chilton ave\n",
       "417                     3623 chilton ave\n",
       "418                     3712 chilton ave\n",
       "419                       3717 ashton dr\n",
       "420                       3716 ashton dr\n",
       "421                      3715 farnham dr\n",
       "422                     3702 chilton ave\n",
       "423                       3705 ashton dr\n",
       "424                       3709 ashton dr\n",
       "425                      3602 farnham dr\n",
       "584                      2425 dalton cir\n",
       "585                      2421 dalton cir\n",
       "586                      2416 dalton cir\n",
       "587                      2422 dalton cir\n",
       "723                                  NaN\n",
       "782                  2713 northridge cir\n",
       "783                  2700 northridge cir\n",
       "1151                                 NaN\n",
       "1248                     201 e o neil dr\n",
       "1249                     133 e o neil dr\n",
       "1250                     113 e o neil dr\n",
       "1252                     104 e o neil dr\n",
       "1253                     114 e o neil dr\n",
       "1254                     120 e o neil dr\n",
       "1268                                 NaN\n",
       "1354                                 NaN\n",
       "1380                   912 grand ave 914\n",
       "1385                  916 wilson ave 918\n",
       "1413                                 NaN\n",
       "1414                                 NaN\n",
       "1478                                 NaN\n",
       "1479                                 NaN\n",
       "1501                                 NaN\n",
       "1612                  326 n riverside dr\n",
       "1617                  206 n riverside dr\n",
       "1628                  102 n riverside dr\n",
       "1629                  102 n riverside dr\n",
       "1630                  112 n riverside dr\n",
       "1653                     1215 hyland ave\n",
       "1659                     1115 hyland ave\n",
       "1660                                 NaN\n",
       "1673                  212 howard ave 214\n",
       "1773                  200 trail ridge rd\n",
       "1774                  212 trail ridge rd\n",
       "1775                  236 trail ridge rd\n",
       "1776                4107 trail ridge cir\n",
       "1777                  207 trail ridge rd\n",
       "1794                    427 franklin ave\n",
       "1806                                 NaN\n",
       "1813                    335 franklin ave\n",
       "1814                    329 franklin ave\n",
       "1815                    323 franklin ave\n",
       "1816                    307 franklin ave\n",
       "1817                    301 franklin ave\n",
       "1829                    124 franklin ave\n",
       "1830                    216 franklin ave\n",
       "1835                 219 wilmoth ave 221\n",
       "2031                                 NaN\n",
       "2183                                 NaN\n",
       "2184                  4205 cochrane pkwy\n",
       "2185                  4302 cochrane pkwy\n",
       "2244                                 NaN\n",
       "2320                     2138 hughes ave\n",
       "2321                     2108 hughes ave\n",
       "2353    1505 little bluestem ct unit 103\n",
       "2354    1505 little bluestem ct unit 107\n",
       "2355    1505 little bluestem ct unit 119\n",
       "2356    1505 little bluestem ct unit 116\n",
       "2357    1505 little bluestem ct unit 114\n",
       "2358    1505 little bluestem ct unit 112\n",
       "2359    1505 little bluestem ct unit 106\n",
       "2364             1504 little bluestem ct\n",
       "2365             1506 little bluestem ct\n",
       "2366             1510 little bluestem ct\n",
       "2371                 2027 indiangrass ct\n",
       "2372                  2133 coneflower ct\n",
       "2410                                 NaN\n",
       "2423                                 NaN\n",
       "2462                                 NaN\n",
       "2463                                 NaN\n",
       "2483                                 NaN\n",
       "2504                                 NaN\n",
       "2512                                 NaN\n",
       "Name: Prop_Addr, dtype: object"
      ]
     },
     "execution_count": 135,
     "metadata": {},
     "output_type": "execute_result"
    }
   ],
   "source": [
    "\n",
    "problem_addr = full_df[full_df['coord'].isnull()][['Prop_Addr']]\n",
    "problem_addr['Prop_Addr'] = problem_addr['Prop_Addr'].str.lower()\n",
    "problem_addr['Prop_Addr'] #I tried to get this addresses to work but could not"
   ]
  },
  {
   "cell_type": "code",
   "execution_count": null,
   "metadata": {},
   "outputs": [],
   "source": [
    "ashton 419,420, 423, 424 -> 42.057356, -93.650371"
   ]
  },
  {
   "cell_type": "code",
   "execution_count": null,
   "metadata": {},
   "outputs": [],
   "source": [
    "farhan 421,425 -> 42.056854, -93.650394"
   ]
  },
  {
   "cell_type": "code",
   "execution_count": null,
   "metadata": {},
   "outputs": [],
   "source": [
    "dalton 84-87 ->42.054254, -93.641898"
   ]
  },
  {
   "cell_type": "code",
   "execution_count": null,
   "metadata": {},
   "outputs": [],
   "source": [
    "782,783 -> 42.048357, -93.650409"
   ]
  },
  {
   "cell_type": "code",
   "execution_count": null,
   "metadata": {},
   "outputs": [],
   "source": [
    "1248-1254 -> 42.039839, -93.608907"
   ]
  },
  {
   "cell_type": "code",
   "execution_count": null,
   "metadata": {},
   "outputs": [],
   "source": [
    "1380 -> 42.030799, -93.620003"
   ]
  },
  {
   "cell_type": "code",
   "execution_count": null,
   "metadata": {},
   "outputs": [],
   "source": [
    "1385 -> 42.030857, -93.618417"
   ]
  },
  {
   "cell_type": "code",
   "execution_count": null,
   "metadata": {},
   "outputs": [],
   "source": [
    "1612, 1617, 1628-1630  -> 42.025958, -93.629303"
   ]
  },
  {
   "cell_type": "code",
   "execution_count": null,
   "metadata": {},
   "outputs": [],
   "source": [
    "1673 -> 42.024277, -93.658482"
   ]
  },
  {
   "cell_type": "code",
   "execution_count": null,
   "metadata": {},
   "outputs": [],
   "source": [
    "1773-1777 -> 42.024455, -93.674301"
   ]
  },
  {
   "cell_type": "code",
   "execution_count": null,
   "metadata": {},
   "outputs": [],
   "source": [
    "franklin 1813-1817,1829-1830, 1794 -> 42.024899, -93.665210"
   ]
  },
  {
   "cell_type": "code",
   "execution_count": null,
   "metadata": {},
   "outputs": [],
   "source": [
    "chilton 415-418,422 -> 42.057058, -93.651121"
   ]
  },
  {
   "cell_type": "code",
   "execution_count": null,
   "metadata": {},
   "outputs": [],
   "source": [
    "kinion 127-130 -> 42.058917, -93.629018"
   ]
  },
  {
   "cell_type": "code",
   "execution_count": null,
   "metadata": {},
   "outputs": [],
   "source": [
    "little bluestem 2353-2359, 2364-2366 -> 42.009682, -93.647182"
   ]
  },
  {
   "cell_type": "code",
   "execution_count": 34,
   "metadata": {},
   "outputs": [
    {
     "name": "stdout",
     "output_type": "stream",
     "text": [
      "Kinyon, Toole County, Montana, United States\n"
     ]
    }
   ],
   "source": [
    "print(geocode('1309 kinyon cir,  USA'))"
   ]
  },
  {
   "cell_type": "markdown",
   "metadata": {},
   "source": [
    "Now determine the distances between each of the areas of interest and the houses"
   ]
  },
  {
   "cell_type": "code",
   "execution_count": 93,
   "metadata": {},
   "outputs": [],
   "source": [
    "JackTriceStadium = '42.0162027, -93.6357060'\n",
    "Downtown = '42.0251029, -93.6138075'\n",
    "Airport = '41.9989524, -93.6223669'"
   ]
  },
  {
   "cell_type": "code",
   "execution_count": 184,
   "metadata": {},
   "outputs": [],
   "source": [
    "from geopy import distance\n",
    "dist_stadium = []\n",
    "for co in range(0,len(full_geocodes)):\n",
    "    if full_df.iloc[co]['coord'] is not None:\n",
    "        dist = distance.distance(full_df.iloc[co]['coord'], JackTriceStadium ).km\n",
    "    else:\n",
    "        dist = None\n",
    "    dist_stadium.append(dist)"
   ]
  },
  {
   "cell_type": "code",
   "execution_count": 185,
   "metadata": {},
   "outputs": [],
   "source": [
    "dist_downtown = []\n",
    "for co in range(0,len(full_geocodes)):\n",
    "    if full_df.iloc[co]['coord'] is not None:\n",
    "        dist = distance.distance(full_df.iloc[co]['coord'], Downtown ).km\n",
    "    else:\n",
    "        dist = None \n",
    "    dist_downtown.append(dist)"
   ]
  },
  {
   "cell_type": "code",
   "execution_count": 186,
   "metadata": {},
   "outputs": [],
   "source": [
    "dist_airport = []\n",
    "for co in range(0,len(full_geocodes)):\n",
    "    if full_df.iloc[co]['coord'] is not None:\n",
    "        dist = distance.distance(full_df.iloc[co]['coord'], Airport ).km\n",
    "    else:\n",
    "        dist = None \n",
    "    dist_airport.append(dist)"
   ]
  },
  {
   "cell_type": "code",
   "execution_count": 180,
   "metadata": {},
   "outputs": [],
   "source": [
    "full_df['dist_stadium']= dist_stadium"
   ]
  },
  {
   "cell_type": "code",
   "execution_count": 187,
   "metadata": {},
   "outputs": [],
   "source": [
    "full_df['dist_downtown']= dist_downtown"
   ]
  },
  {
   "cell_type": "code",
   "execution_count": 188,
   "metadata": {},
   "outputs": [],
   "source": [
    "full_df['dist_airport']= dist_airport"
   ]
  },
  {
   "cell_type": "code",
   "execution_count": 159,
   "metadata": {},
   "outputs": [],
   "source": [
    "full_df.rename(columns={\"SalePrice_x\": \"SalePrice\"}, inplace =True)"
   ]
  },
  {
   "cell_type": "code",
   "execution_count": 164,
   "metadata": {},
   "outputs": [],
   "source": [
    "full_df['PricePerSqft'] = full_df['SalePrice']/full_df['GrLivArea']"
   ]
  },
  {
   "cell_type": "code",
   "execution_count": 189,
   "metadata": {},
   "outputs": [],
   "source": [
    "full_df.to_csv(r'../data/full_wCoord.csv', index = False)"
   ]
  },
  {
   "cell_type": "code",
   "execution_count": 23,
   "metadata": {},
   "outputs": [
    {
     "data": {
      "text/plain": [
       "<seaborn.axisgrid.FacetGrid at 0x7ffbd7761850>"
      ]
     },
     "execution_count": 23,
     "metadata": {},
     "output_type": "execute_result"
    },
    {
     "data": {
      "image/png": "[encoded data removed]",
      "text/plain": [
       "<Figure size 360x360 with 1 Axes>"
      ]
     },
     "metadata": {
      "needs_background": "light"
     },
     "output_type": "display_data"
    }
   ],
   "source": [
    "import seaborn as sns\n",
    "\n",
    "\n",
    "sns.relplot(x=\"dist_stadium\", y=(\"PricePerSqft\"), data=full_df)"
   ]
  },
  {
   "cell_type": "code",
   "execution_count": 191,
   "metadata": {},
   "outputs": [
    {
     "data": {
      "text/plain": [
       "<seaborn.axisgrid.FacetGrid at 0x7fa8b1963c10>"
      ]
     },
     "execution_count": 191,
     "metadata": {},
     "output_type": "execute_result"
    },
    {
     "data": {
      "image/png": "[encoded data removed]",
      "text/plain": [
       "<Figure size 360x360 with 1 Axes>"
      ]
     },
     "metadata": {
      "needs_background": "light"
     },
     "output_type": "display_data"
    }
   ],
   "source": [
    "sns.relplot(x=\"dist_downtown\", y=\"PricePerSqft\", data=full_df)"
   ]
  },
  {
   "cell_type": "code",
   "execution_count": 192,
   "metadata": {},
   "outputs": [
    {
     "data": {
      "text/plain": [
       "<seaborn.axisgrid.FacetGrid at 0x7fa8b0876ca0>"
      ]
     },
     "execution_count": 192,
     "metadata": {},
     "output_type": "execute_result"
    },
    {
     "data": {
      "image/png": "[encoded data removed]",
      "text/plain": [
       "<Figure size 360x360 with 1 Axes>"
      ]
     },
     "metadata": {
      "needs_background": "light"
     },
     "output_type": "display_data"
    }
   ],
   "source": [
    "sns.relplot(x=\"dist_airport\", y=\"PricePerSqft\", data=full_df)"
   ]
  },
  {
   "cell_type": "code",
   "execution_count": 193,
   "metadata": {},
   "outputs": [
    {
     "data": {
      "text/plain": [
       "<AxesSubplot:xlabel='dist_airport', ylabel='Count'>"
      ]
     },
     "execution_count": 193,
     "metadata": {},
     "output_type": "execute_result"
    },
    {
     "data": {
      "image/png": "[encoded data removed]",
      "text/plain": [
       "<Figure size 432x288 with 1 Axes>"
      ]
     },
     "metadata": {
      "needs_background": "light"
     },
     "output_type": "display_data"
    }
   ],
   "source": [
    "sns.histplot( full_df['dist_airport'])"
   ]
  },
  {
   "cell_type": "code",
   "execution_count": 194,
   "metadata": {},
   "outputs": [
    {
     "data": {
      "text/plain": [
       "<AxesSubplot:xlabel='dist_downtown', ylabel='Count'>"
      ]
     },
     "execution_count": 194,
     "metadata": {},
     "output_type": "execute_result"
    },
    {
     "data": {
      "image/png": "[encoded data removed]",
      "text/plain": [
       "<Figure size 432x288 with 1 Axes>"
      ]
     },
     "metadata": {
      "needs_background": "light"
     },
     "output_type": "display_data"
    }
   ],
   "source": [
    "sns.histplot( full_df['dist_downtown'])"
   ]
  },
  {
   "cell_type": "code",
   "execution_count": 195,
   "metadata": {},
   "outputs": [
    {
     "data": {
      "text/plain": [
       "<AxesSubplot:xlabel='dist_stadium', ylabel='Count'>"
      ]
     },
     "execution_count": 195,
     "metadata": {},
     "output_type": "execute_result"
    },
    {
     "data": {
      "image/png": "[encoded data removed]",
      "text/plain": [
       "<Figure size 432x288 with 1 Axes>"
      ]
     },
     "metadata": {
      "needs_background": "light"
     },
     "output_type": "display_data"
    }
   ],
   "source": [
    "sns.histplot( full_df['dist_stadium'])"
   ]
  },
  {
   "cell_type": "code",
   "execution_count": 197,
   "metadata": {},
   "outputs": [],
   "source": [
    "distances_df = full_df.copy()\n",
    "distances_df = full_df[full_df['dist_stadium'].notna()]"
   ]
  },
  {
   "cell_type": "code",
   "execution_count": 199,
   "metadata": {},
   "outputs": [
    {
     "data": {
      "text/plain": [
       "(array([  2.,  48., 346., 832., 807., 361., 103.,  29.,   5.,   3.]),\n",
       " array([-99.47858775, -75.2534594 , -51.02833106, -26.80320271,\n",
       "         -2.57807436,  21.64705399,  45.87218234,  70.09731069,\n",
       "         94.32243904, 118.54756739, 142.77269573]),\n",
       " <BarContainer object of 10 artists>)"
      ]
     },
     "execution_count": 199,
     "metadata": {},
     "output_type": "execute_result"
    },
    {
     "data": {
      "image/png": "[encoded data removed]",
      "text/plain": [
       "<Figure size 432x288 with 1 Axes>"
      ]
     },
     "metadata": {
      "needs_background": "light"
     },
     "output_type": "display_data"
    }
   ],
   "source": [
    "from sklearn.linear_model import LinearRegression\n",
    "import matplotlib.pyplot as plt\n",
    "\n",
    "lm = LinearRegression()\n",
    "lm.fit(distances_df[['dist_stadium']], distances_df['PricePerSqft'])\n",
    "residuals = distances_df['PricePerSqft'] - lm.predict(distances_df[['dist_stadium']])\n",
    "plt.hist(residuals)"
   ]
  },
  {
   "cell_type": "code",
   "execution_count": 200,
   "metadata": {},
   "outputs": [
    {
     "data": {
      "text/plain": [
       "0.16255245581461064"
      ]
     },
     "execution_count": 200,
     "metadata": {},
     "output_type": "execute_result"
    }
   ],
   "source": [
    "lm.score(distances_df[['dist_stadium']], distances_df['PricePerSqft'])"
   ]
  },
  {
   "cell_type": "code",
   "execution_count": 201,
   "metadata": {},
   "outputs": [
    {
     "data": {
      "text/plain": [
       "(array([ 18., 152., 610., 891., 605., 189.,  52.,  14.,   3.,   2.]),\n",
       " array([-86.15631683, -62.22320456, -38.29009229, -14.35698002,\n",
       "          9.57613225,  33.50924452,  57.44235679,  81.37546906,\n",
       "        105.30858133, 129.24169361, 153.17480588]),\n",
       " <BarContainer object of 10 artists>)"
      ]
     },
     "execution_count": 201,
     "metadata": {},
     "output_type": "execute_result"
    },
    {
     "data": {
      "image/png": "[encoded data removed]",
      "text/plain": [
       "<Figure size 432x288 with 1 Axes>"
      ]
     },
     "metadata": {
      "needs_background": "light"
     },
     "output_type": "display_data"
    }
   ],
   "source": [
    "lm2 = LinearRegression()\n",
    "lm2.fit(distances_df[['dist_downtown']], distances_df['PricePerSqft'])\n",
    "residuals = distances_df['PricePerSqft'] - lm2.predict(distances_df[['dist_downtown']])\n",
    "plt.hist(residuals)"
   ]
  },
  {
   "cell_type": "code",
   "execution_count": 202,
   "metadata": {},
   "outputs": [
    {
     "data": {
      "text/plain": [
       "0.1207013457140631"
      ]
     },
     "execution_count": 202,
     "metadata": {},
     "output_type": "execute_result"
    }
   ],
   "source": [
    "lm.score(distances_df[['dist_downtown']], distances_df['PricePerSqft'])"
   ]
  },
  {
   "cell_type": "code",
   "execution_count": 203,
   "metadata": {},
   "outputs": [
    {
     "data": {
      "text/plain": [
       "(array([  2.,  59., 402., 863., 750., 315., 106.,  33.,   3.,   3.]),\n",
       " array([-97.75941955, -73.4591621 , -49.15890465, -24.85864721,\n",
       "         -0.55838976,  23.74186768,  48.04212513,  72.34238258,\n",
       "         96.64264002, 120.94289747, 145.24315491]),\n",
       " <BarContainer object of 10 artists>)"
      ]
     },
     "execution_count": 203,
     "metadata": {},
     "output_type": "execute_result"
    },
    {
     "data": {
      "image/png": "[encoded data removed]",
      "text/plain": [
       "<Figure size 432x288 with 1 Axes>"
      ]
     },
     "metadata": {
      "needs_background": "light"
     },
     "output_type": "display_data"
    }
   ],
   "source": [
    "lm3 = LinearRegression()\n",
    "lm3.fit(distances_df[['dist_airport']], distances_df['PricePerSqft'])\n",
    "residuals = distances_df['PricePerSqft'] - lm3.predict(distances_df[['dist_airport']])\n",
    "plt.hist(residuals)"
   ]
  },
  {
   "cell_type": "code",
   "execution_count": 204,
   "metadata": {},
   "outputs": [
    {
     "data": {
      "text/plain": [
       "0.10914081028413836"
      ]
     },
     "execution_count": 204,
     "metadata": {},
     "output_type": "execute_result"
    }
   ],
   "source": [
    "lm3.score(distances_df[['dist_airport']], distances_df['PricePerSqft'])"
   ]
  },
  {
   "cell_type": "markdown",
   "metadata": {},
   "source": [
    "# Locations imputation "
   ]
  },
  {
   "cell_type": "markdown",
   "metadata": {},
   "source": [
    "After obtaining the geocodes for most of the houses, we are imputing the missing values based on the Neighborhood mean. To obtain the location of each house we need the Real Estate Data"
   ]
  },
  {
   "cell_type": "code",
   "execution_count": 192,
   "metadata": {},
   "outputs": [],
   "source": [
    "raw_data = pd.read_csv('../data/Ames_Housing_Price_Data.csv', index_col=0)"
   ]
  },
  {
   "cell_type": "markdown",
   "metadata": {},
   "source": [
    "We merge the two data sets on PID/MapRefNo columns"
   ]
  },
  {
   "cell_type": "code",
   "execution_count": 193,
   "metadata": {},
   "outputs": [],
   "source": [
    "full_df = pd.read_csv('../data/full_wCoord.csv')\n"
   ]
  },
  {
   "cell_type": "code",
   "execution_count": 194,
   "metadata": {},
   "outputs": [
    {
     "data": {
      "text/html": [
       "<div>\n",
       "<style scoped>\n",
       "    .dataframe tbody tr th:only-of-type {\n",
       "        vertical-align: middle;\n",
       "    }\n",
       "\n",
       "    .dataframe tbody tr th {\n",
       "        vertical-align: top;\n",
       "    }\n",
       "\n",
       "    .dataframe thead th {\n",
       "        text-align: right;\n",
       "    }\n",
       "</style>\n",
       "<table border=\"1\" class=\"dataframe\">\n",
       "  <thead>\n",
       "    <tr style=\"text-align: right;\">\n",
       "      <th></th>\n",
       "      <th>PID</th>\n",
       "      <th>GrLivArea</th>\n",
       "      <th>SalePrice</th>\n",
       "      <th>MSSubClass</th>\n",
       "      <th>MSZoning</th>\n",
       "      <th>LotFrontage</th>\n",
       "      <th>LotArea_x</th>\n",
       "      <th>Street</th>\n",
       "      <th>Alley</th>\n",
       "      <th>LotShape</th>\n",
       "      <th>...</th>\n",
       "      <th>PA-UntNo</th>\n",
       "      <th>Date</th>\n",
       "      <th>Source</th>\n",
       "      <th>NmbrBRs</th>\n",
       "      <th>coord</th>\n",
       "      <th>dist_stadium</th>\n",
       "      <th>dist_downtown</th>\n",
       "      <th>dist_airport</th>\n",
       "      <th>PricePerSqft</th>\n",
       "      <th>Neighborhood</th>\n",
       "    </tr>\n",
       "  </thead>\n",
       "  <tbody>\n",
       "    <tr>\n",
       "      <th>1444</th>\n",
       "      <td>902301130</td>\n",
       "      <td>1232</td>\n",
       "      <td>114000</td>\n",
       "      <td>70</td>\n",
       "      <td>RM</td>\n",
       "      <td>35.0</td>\n",
       "      <td>4571</td>\n",
       "      <td>Pave</td>\n",
       "      <td>Grvl</td>\n",
       "      <td>Reg</td>\n",
       "      <td>...</td>\n",
       "      <td>NaN</td>\n",
       "      <td>10-Jul-20</td>\n",
       "      <td>Ames City Assessor</td>\n",
       "      <td>3.0</td>\n",
       "      <td>(42.029261857142856, -93.61826428571428)</td>\n",
       "      <td>2.047131</td>\n",
       "      <td>0.591293</td>\n",
       "      <td>3.383687</td>\n",
       "      <td>92.532468</td>\n",
       "      <td>OldTown</td>\n",
       "    </tr>\n",
       "    <tr>\n",
       "      <th>1013</th>\n",
       "      <td>534426110</td>\n",
       "      <td>1041</td>\n",
       "      <td>124500</td>\n",
       "      <td>20</td>\n",
       "      <td>RL</td>\n",
       "      <td>80.0</td>\n",
       "      <td>9600</td>\n",
       "      <td>Pave</td>\n",
       "      <td>NaN</td>\n",
       "      <td>Reg</td>\n",
       "      <td>...</td>\n",
       "      <td>NaN</td>\n",
       "      <td>10-Jul-20</td>\n",
       "      <td>Ames City Assessor</td>\n",
       "      <td>3.0</td>\n",
       "      <td>(42.04122444683396, -93.62456660627306)</td>\n",
       "      <td>2.928359</td>\n",
       "      <td>2.000079</td>\n",
       "      <td>4.698845</td>\n",
       "      <td>119.596542</td>\n",
       "      <td>NAmes</td>\n",
       "    </tr>\n",
       "    <tr>\n",
       "      <th>1323</th>\n",
       "      <td>535457050</td>\n",
       "      <td>925</td>\n",
       "      <td>99000</td>\n",
       "      <td>20</td>\n",
       "      <td>RL</td>\n",
       "      <td>70.0</td>\n",
       "      <td>7000</td>\n",
       "      <td>Pave</td>\n",
       "      <td>NaN</td>\n",
       "      <td>Reg</td>\n",
       "      <td>...</td>\n",
       "      <td>NaN</td>\n",
       "      <td>10-Jul-20</td>\n",
       "      <td>Ames City Assessor</td>\n",
       "      <td>3.0</td>\n",
       "      <td>(42.034682897959186, -93.60670769387755)</td>\n",
       "      <td>3.159271</td>\n",
       "      <td>1.215716</td>\n",
       "      <td>4.175285</td>\n",
       "      <td>107.027027</td>\n",
       "      <td>NAmes</td>\n",
       "    </tr>\n",
       "    <tr>\n",
       "      <th>500</th>\n",
       "      <td>528280110</td>\n",
       "      <td>1647</td>\n",
       "      <td>175000</td>\n",
       "      <td>60</td>\n",
       "      <td>RL</td>\n",
       "      <td>62.0</td>\n",
       "      <td>7917</td>\n",
       "      <td>Pave</td>\n",
       "      <td>NaN</td>\n",
       "      <td>Reg</td>\n",
       "      <td>...</td>\n",
       "      <td>NaN</td>\n",
       "      <td>10-Jul-20</td>\n",
       "      <td>Ames City Assessor</td>\n",
       "      <td>3.0</td>\n",
       "      <td>(42.0602303, -93.6439316)</td>\n",
       "      <td>4.937524</td>\n",
       "      <td>4.630802</td>\n",
       "      <td>7.036752</td>\n",
       "      <td>106.253795</td>\n",
       "      <td>Gilbert</td>\n",
       "    </tr>\n",
       "    <tr>\n",
       "      <th>1348</th>\n",
       "      <td>902101050</td>\n",
       "      <td>1668</td>\n",
       "      <td>135000</td>\n",
       "      <td>50</td>\n",
       "      <td>RM</td>\n",
       "      <td>60.0</td>\n",
       "      <td>9600</td>\n",
       "      <td>Pave</td>\n",
       "      <td>Grvl</td>\n",
       "      <td>Reg</td>\n",
       "      <td>...</td>\n",
       "      <td>NaN</td>\n",
       "      <td>10-Jul-20</td>\n",
       "      <td>Ames City Assessor</td>\n",
       "      <td>3.0</td>\n",
       "      <td>(42.03348324489796, -93.61720153061225)</td>\n",
       "      <td>2.456166</td>\n",
       "      <td>0.972346</td>\n",
       "      <td>3.859255</td>\n",
       "      <td>80.935252</td>\n",
       "      <td>OldTown</td>\n",
       "    </tr>\n",
       "  </tbody>\n",
       "</table>\n",
       "<p>5 rows × 177 columns</p>\n",
       "</div>"
      ],
      "text/plain": [
       "            PID  GrLivArea  SalePrice  MSSubClass MSZoning  LotFrontage  \\\n",
       "1444  902301130       1232     114000          70       RM         35.0   \n",
       "1013  534426110       1041     124500          20       RL         80.0   \n",
       "1323  535457050        925      99000          20       RL         70.0   \n",
       "500   528280110       1647     175000          60       RL         62.0   \n",
       "1348  902101050       1668     135000          50       RM         60.0   \n",
       "\n",
       "      LotArea_x Street Alley LotShape  ... PA-UntNo       Date  \\\n",
       "1444       4571   Pave  Grvl      Reg  ...      NaN  10-Jul-20   \n",
       "1013       9600   Pave   NaN      Reg  ...      NaN  10-Jul-20   \n",
       "1323       7000   Pave   NaN      Reg  ...      NaN  10-Jul-20   \n",
       "500        7917   Pave   NaN      Reg  ...      NaN  10-Jul-20   \n",
       "1348       9600   Pave  Grvl      Reg  ...      NaN  10-Jul-20   \n",
       "\n",
       "                  Source NmbrBRs                                     coord  \\\n",
       "1444  Ames City Assessor     3.0  (42.029261857142856, -93.61826428571428)   \n",
       "1013  Ames City Assessor     3.0   (42.04122444683396, -93.62456660627306)   \n",
       "1323  Ames City Assessor     3.0  (42.034682897959186, -93.60670769387755)   \n",
       "500   Ames City Assessor     3.0                 (42.0602303, -93.6439316)   \n",
       "1348  Ames City Assessor     3.0   (42.03348324489796, -93.61720153061225)   \n",
       "\n",
       "     dist_stadium dist_downtown dist_airport PricePerSqft  Neighborhood  \n",
       "1444     2.047131      0.591293     3.383687    92.532468       OldTown  \n",
       "1013     2.928359      2.000079     4.698845   119.596542         NAmes  \n",
       "1323     3.159271      1.215716     4.175285   107.027027         NAmes  \n",
       "500      4.937524      4.630802     7.036752   106.253795       Gilbert  \n",
       "1348     2.456166      0.972346     3.859255    80.935252       OldTown  \n",
       "\n",
       "[5 rows x 177 columns]"
      ]
     },
     "execution_count": 194,
     "metadata": {},
     "output_type": "execute_result"
    }
   ],
   "source": [
    "new_full = pd.merge(full_df, raw_data[['PID','Neighborhood']],how=\"left\",left_on='PID',\n",
    "right_on='PID',\n",
    "sort=True,\n",
    "suffixes=(\"_x\", \"_y\"),\n",
    "copy=False)\n",
    "new_full.sample(5)"
   ]
  },
  {
   "cell_type": "markdown",
   "metadata": {},
   "source": [
    "Create lat and lon columns"
   ]
  },
  {
   "cell_type": "code",
   "execution_count": 195,
   "metadata": {},
   "outputs": [
    {
     "data": {
      "text/html": [
       "<div>\n",
       "<style scoped>\n",
       "    .dataframe tbody tr th:only-of-type {\n",
       "        vertical-align: middle;\n",
       "    }\n",
       "\n",
       "    .dataframe tbody tr th {\n",
       "        vertical-align: top;\n",
       "    }\n",
       "\n",
       "    .dataframe thead th {\n",
       "        text-align: right;\n",
       "    }\n",
       "</style>\n",
       "<table border=\"1\" class=\"dataframe\">\n",
       "  <thead>\n",
       "    <tr style=\"text-align: right;\">\n",
       "      <th></th>\n",
       "      <th>PID</th>\n",
       "      <th>GrLivArea</th>\n",
       "      <th>SalePrice</th>\n",
       "      <th>MSSubClass</th>\n",
       "      <th>MSZoning</th>\n",
       "      <th>LotFrontage</th>\n",
       "      <th>LotArea_x</th>\n",
       "      <th>Street</th>\n",
       "      <th>Alley</th>\n",
       "      <th>LotShape</th>\n",
       "      <th>...</th>\n",
       "      <th>Source</th>\n",
       "      <th>NmbrBRs</th>\n",
       "      <th>coord</th>\n",
       "      <th>dist_stadium</th>\n",
       "      <th>dist_downtown</th>\n",
       "      <th>dist_airport</th>\n",
       "      <th>PricePerSqft</th>\n",
       "      <th>Neighborhood</th>\n",
       "      <th>lat</th>\n",
       "      <th>lon</th>\n",
       "    </tr>\n",
       "  </thead>\n",
       "  <tbody>\n",
       "    <tr>\n",
       "      <th>1124</th>\n",
       "      <td>535155110</td>\n",
       "      <td>1056</td>\n",
       "      <td>139400</td>\n",
       "      <td>20</td>\n",
       "      <td>RL</td>\n",
       "      <td>80.0</td>\n",
       "      <td>9250</td>\n",
       "      <td>Pave</td>\n",
       "      <td>NaN</td>\n",
       "      <td>Reg</td>\n",
       "      <td>...</td>\n",
       "      <td>Ames City Assessor</td>\n",
       "      <td>3.0</td>\n",
       "      <td>(42.042154469387754, -93.61633851020409)</td>\n",
       "      <td>3.298726</td>\n",
       "      <td>1.905546</td>\n",
       "      <td>4.824519</td>\n",
       "      <td>132.007576</td>\n",
       "      <td>NAmes</td>\n",
       "      <td>42.042154</td>\n",
       "      <td>-93.616339</td>\n",
       "    </tr>\n",
       "    <tr>\n",
       "      <th>523</th>\n",
       "      <td>528315030</td>\n",
       "      <td>2392</td>\n",
       "      <td>348000</td>\n",
       "      <td>60</td>\n",
       "      <td>RL</td>\n",
       "      <td>82.0</td>\n",
       "      <td>9452</td>\n",
       "      <td>Pave</td>\n",
       "      <td>NaN</td>\n",
       "      <td>Reg</td>\n",
       "      <td>...</td>\n",
       "      <td>Ames City Assessor</td>\n",
       "      <td>3.0</td>\n",
       "      <td>(42.05352560673397, -93.65387087303654)</td>\n",
       "      <td>4.410045</td>\n",
       "      <td>4.579396</td>\n",
       "      <td>6.599304</td>\n",
       "      <td>145.484950</td>\n",
       "      <td>NoRidge</td>\n",
       "      <td>42.053526</td>\n",
       "      <td>-93.653871</td>\n",
       "    </tr>\n",
       "    <tr>\n",
       "      <th>987</th>\n",
       "      <td>534400030</td>\n",
       "      <td>1128</td>\n",
       "      <td>155000</td>\n",
       "      <td>20</td>\n",
       "      <td>RL</td>\n",
       "      <td>80.0</td>\n",
       "      <td>8700</td>\n",
       "      <td>Pave</td>\n",
       "      <td>NaN</td>\n",
       "      <td>Reg</td>\n",
       "      <td>...</td>\n",
       "      <td>Ames City Assessor</td>\n",
       "      <td>3.0</td>\n",
       "      <td>(42.041346894343455, -93.62930602362958)</td>\n",
       "      <td>2.842707</td>\n",
       "      <td>2.214170</td>\n",
       "      <td>4.743856</td>\n",
       "      <td>137.411348</td>\n",
       "      <td>NAmes</td>\n",
       "      <td>42.041347</td>\n",
       "      <td>-93.629306</td>\n",
       "    </tr>\n",
       "    <tr>\n",
       "      <th>47</th>\n",
       "      <td>527126030</td>\n",
       "      <td>1652</td>\n",
       "      <td>251000</td>\n",
       "      <td>120</td>\n",
       "      <td>RL</td>\n",
       "      <td>41.0</td>\n",
       "      <td>5330</td>\n",
       "      <td>Pave</td>\n",
       "      <td>NaN</td>\n",
       "      <td>Reg</td>\n",
       "      <td>...</td>\n",
       "      <td>Ames City Assessor</td>\n",
       "      <td>2.0</td>\n",
       "      <td>(42.063184675, -93.634378025)</td>\n",
       "      <td>5.219637</td>\n",
       "      <td>4.559893</td>\n",
       "      <td>7.203528</td>\n",
       "      <td>151.937046</td>\n",
       "      <td>StoneBr</td>\n",
       "      <td>42.063185</td>\n",
       "      <td>-93.634378</td>\n",
       "    </tr>\n",
       "    <tr>\n",
       "      <th>602</th>\n",
       "      <td>528439060</td>\n",
       "      <td>1432</td>\n",
       "      <td>245000</td>\n",
       "      <td>20</td>\n",
       "      <td>RL</td>\n",
       "      <td>76.0</td>\n",
       "      <td>9139</td>\n",
       "      <td>Pave</td>\n",
       "      <td>NaN</td>\n",
       "      <td>IR1</td>\n",
       "      <td>...</td>\n",
       "      <td>Ames City Assessor</td>\n",
       "      <td>3.0</td>\n",
       "      <td>(42.05319491137076, -93.64441004293738)</td>\n",
       "      <td>4.171606</td>\n",
       "      <td>4.019555</td>\n",
       "      <td>6.295418</td>\n",
       "      <td>171.089385</td>\n",
       "      <td>Somerst</td>\n",
       "      <td>42.053195</td>\n",
       "      <td>-93.644410</td>\n",
       "    </tr>\n",
       "  </tbody>\n",
       "</table>\n",
       "<p>5 rows × 179 columns</p>\n",
       "</div>"
      ],
      "text/plain": [
       "            PID  GrLivArea  SalePrice  MSSubClass MSZoning  LotFrontage  \\\n",
       "1124  535155110       1056     139400          20       RL         80.0   \n",
       "523   528315030       2392     348000          60       RL         82.0   \n",
       "987   534400030       1128     155000          20       RL         80.0   \n",
       "47    527126030       1652     251000         120       RL         41.0   \n",
       "602   528439060       1432     245000          20       RL         76.0   \n",
       "\n",
       "      LotArea_x Street Alley LotShape  ...              Source NmbrBRs  \\\n",
       "1124       9250   Pave   NaN      Reg  ...  Ames City Assessor     3.0   \n",
       "523        9452   Pave   NaN      Reg  ...  Ames City Assessor     3.0   \n",
       "987        8700   Pave   NaN      Reg  ...  Ames City Assessor     3.0   \n",
       "47         5330   Pave   NaN      Reg  ...  Ames City Assessor     2.0   \n",
       "602        9139   Pave   NaN      IR1  ...  Ames City Assessor     3.0   \n",
       "\n",
       "                                         coord dist_stadium dist_downtown  \\\n",
       "1124  (42.042154469387754, -93.61633851020409)     3.298726      1.905546   \n",
       "523    (42.05352560673397, -93.65387087303654)     4.410045      4.579396   \n",
       "987   (42.041346894343455, -93.62930602362958)     2.842707      2.214170   \n",
       "47               (42.063184675, -93.634378025)     5.219637      4.559893   \n",
       "602    (42.05319491137076, -93.64441004293738)     4.171606      4.019555   \n",
       "\n",
       "     dist_airport PricePerSqft Neighborhood        lat        lon  \n",
       "1124     4.824519   132.007576        NAmes  42.042154 -93.616339  \n",
       "523      6.599304   145.484950      NoRidge  42.053526 -93.653871  \n",
       "987      4.743856   137.411348        NAmes  42.041347 -93.629306  \n",
       "47       7.203528   151.937046      StoneBr  42.063185 -93.634378  \n",
       "602      6.295418   171.089385      Somerst  42.053195 -93.644410  \n",
       "\n",
       "[5 rows x 179 columns]"
      ]
     },
     "execution_count": 195,
     "metadata": {},
     "output_type": "execute_result"
    }
   ],
   "source": [
    "new = new_full[\"coord\"].str.replace('(', '').str.replace(')', '').str.split(\",\", n = 1, expand = True)\n",
    "new_full['lat']= new[0].astype(float)\n",
    "new_full['lon']= new[1].astype(float)\n",
    "new_full.sample(5)"
   ]
  },
  {
   "cell_type": "markdown",
   "metadata": {},
   "source": [
    "Remove neighborhoods outside of the city limits"
   ]
  },
  {
   "cell_type": "code",
   "execution_count": 196,
   "metadata": {},
   "outputs": [
    {
     "data": {
      "text/plain": [
       "NAmes      417\n",
       "CollgCr    240\n",
       "OldTown    217\n",
       "Edwards    169\n",
       "Somerst    145\n",
       "Gilbert    145\n",
       "Sawyer     141\n",
       "NWAmes     124\n",
       "NridgHt    123\n",
       "SawyerW    114\n",
       "Mitchel    105\n",
       "BrkSide    104\n",
       "Crawfor     96\n",
       "IDOTRR      80\n",
       "NoRidge     67\n",
       "Timber      54\n",
       "StoneBr     45\n",
       "SWISU       42\n",
       "ClearCr     40\n",
       "MeadowV     38\n",
       "BrDale      30\n",
       "Blmngtn     23\n",
       "NPkVill     23\n",
       "Veenker     23\n",
       "Blueste     10\n",
       "Name: Neighborhood, dtype: int64"
      ]
     },
     "execution_count": 196,
     "metadata": {},
     "output_type": "execute_result"
    }
   ],
   "source": [
    "new_full = new_full.loc[~new_full['Neighborhood'].isin(['Landmrk','GrnHill','Greens'])]\n",
    "new_full['Neighborhood'].value_counts()"
   ]
  },
  {
   "cell_type": "markdown",
   "metadata": {},
   "source": [
    "Impute the Blueste neighborhood manually because geopy did not find it. We found the coords in Google Maps"
   ]
  },
  {
   "cell_type": "code",
   "execution_count": 197,
   "metadata": {},
   "outputs": [
    {
     "data": {
      "text/html": [
       "<div>\n",
       "<style scoped>\n",
       "    .dataframe tbody tr th:only-of-type {\n",
       "        vertical-align: middle;\n",
       "    }\n",
       "\n",
       "    .dataframe tbody tr th {\n",
       "        vertical-align: top;\n",
       "    }\n",
       "\n",
       "    .dataframe thead th {\n",
       "        text-align: right;\n",
       "    }\n",
       "</style>\n",
       "<table border=\"1\" class=\"dataframe\">\n",
       "  <thead>\n",
       "    <tr style=\"text-align: right;\">\n",
       "      <th></th>\n",
       "      <th>PID</th>\n",
       "      <th>GrLivArea</th>\n",
       "      <th>SalePrice</th>\n",
       "      <th>MSSubClass</th>\n",
       "      <th>MSZoning</th>\n",
       "      <th>LotFrontage</th>\n",
       "      <th>LotArea_x</th>\n",
       "      <th>Street</th>\n",
       "      <th>Alley</th>\n",
       "      <th>LotShape</th>\n",
       "      <th>...</th>\n",
       "      <th>Source</th>\n",
       "      <th>NmbrBRs</th>\n",
       "      <th>coord</th>\n",
       "      <th>dist_stadium</th>\n",
       "      <th>dist_downtown</th>\n",
       "      <th>dist_airport</th>\n",
       "      <th>PricePerSqft</th>\n",
       "      <th>Neighborhood</th>\n",
       "      <th>lat</th>\n",
       "      <th>lon</th>\n",
       "    </tr>\n",
       "  </thead>\n",
       "  <tbody>\n",
       "    <tr>\n",
       "      <th>2355</th>\n",
       "      <td>909451020</td>\n",
       "      <td>1032</td>\n",
       "      <td>116500</td>\n",
       "      <td>160</td>\n",
       "      <td>RM</td>\n",
       "      <td>24.0</td>\n",
       "      <td>1879</td>\n",
       "      <td>Pave</td>\n",
       "      <td>NaN</td>\n",
       "      <td>Reg</td>\n",
       "      <td>...</td>\n",
       "      <td>Ames City Assessor</td>\n",
       "      <td>2.0</td>\n",
       "      <td>(42.010219, -93.645814)</td>\n",
       "      <td>NaN</td>\n",
       "      <td>NaN</td>\n",
       "      <td>NaN</td>\n",
       "      <td>112.887597</td>\n",
       "      <td>Blueste</td>\n",
       "      <td>42.010219</td>\n",
       "      <td>-93.645814</td>\n",
       "    </tr>\n",
       "    <tr>\n",
       "      <th>2356</th>\n",
       "      <td>909451040</td>\n",
       "      <td>1032</td>\n",
       "      <td>115000</td>\n",
       "      <td>160</td>\n",
       "      <td>RM</td>\n",
       "      <td>24.0</td>\n",
       "      <td>1733</td>\n",
       "      <td>Pave</td>\n",
       "      <td>NaN</td>\n",
       "      <td>Reg</td>\n",
       "      <td>...</td>\n",
       "      <td>Ames City Assessor</td>\n",
       "      <td>2.0</td>\n",
       "      <td>(42.010219, -93.645814)</td>\n",
       "      <td>NaN</td>\n",
       "      <td>NaN</td>\n",
       "      <td>NaN</td>\n",
       "      <td>111.434109</td>\n",
       "      <td>Blueste</td>\n",
       "      <td>42.010219</td>\n",
       "      <td>-93.645814</td>\n",
       "    </tr>\n",
       "    <tr>\n",
       "      <th>2357</th>\n",
       "      <td>909451100</td>\n",
       "      <td>1229</td>\n",
       "      <td>137000</td>\n",
       "      <td>160</td>\n",
       "      <td>RM</td>\n",
       "      <td>24.0</td>\n",
       "      <td>1488</td>\n",
       "      <td>Pave</td>\n",
       "      <td>NaN</td>\n",
       "      <td>Reg</td>\n",
       "      <td>...</td>\n",
       "      <td>Ames City Assessor</td>\n",
       "      <td>2.0</td>\n",
       "      <td>(42.010219, -93.645814)</td>\n",
       "      <td>NaN</td>\n",
       "      <td>NaN</td>\n",
       "      <td>NaN</td>\n",
       "      <td>111.472742</td>\n",
       "      <td>Blueste</td>\n",
       "      <td>42.010219</td>\n",
       "      <td>-93.645814</td>\n",
       "    </tr>\n",
       "    <tr>\n",
       "      <th>2358</th>\n",
       "      <td>909451130</td>\n",
       "      <td>1045</td>\n",
       "      <td>123900</td>\n",
       "      <td>160</td>\n",
       "      <td>RM</td>\n",
       "      <td>24.0</td>\n",
       "      <td>1782</td>\n",
       "      <td>Pave</td>\n",
       "      <td>NaN</td>\n",
       "      <td>Reg</td>\n",
       "      <td>...</td>\n",
       "      <td>Ames City Assessor</td>\n",
       "      <td>2.0</td>\n",
       "      <td>(42.010219, -93.645814)</td>\n",
       "      <td>NaN</td>\n",
       "      <td>NaN</td>\n",
       "      <td>NaN</td>\n",
       "      <td>118.564593</td>\n",
       "      <td>Blueste</td>\n",
       "      <td>42.010219</td>\n",
       "      <td>-93.645814</td>\n",
       "    </tr>\n",
       "    <tr>\n",
       "      <th>2359</th>\n",
       "      <td>909451140</td>\n",
       "      <td>1229</td>\n",
       "      <td>121000</td>\n",
       "      <td>160</td>\n",
       "      <td>RM</td>\n",
       "      <td>24.0</td>\n",
       "      <td>1612</td>\n",
       "      <td>Pave</td>\n",
       "      <td>NaN</td>\n",
       "      <td>Reg</td>\n",
       "      <td>...</td>\n",
       "      <td>Ames City Assessor</td>\n",
       "      <td>2.0</td>\n",
       "      <td>(42.010219, -93.645814)</td>\n",
       "      <td>NaN</td>\n",
       "      <td>NaN</td>\n",
       "      <td>NaN</td>\n",
       "      <td>98.454028</td>\n",
       "      <td>Blueste</td>\n",
       "      <td>42.010219</td>\n",
       "      <td>-93.645814</td>\n",
       "    </tr>\n",
       "    <tr>\n",
       "      <th>2360</th>\n",
       "      <td>909451150</td>\n",
       "      <td>1556</td>\n",
       "      <td>151000</td>\n",
       "      <td>160</td>\n",
       "      <td>RM</td>\n",
       "      <td>24.0</td>\n",
       "      <td>1950</td>\n",
       "      <td>Pave</td>\n",
       "      <td>NaN</td>\n",
       "      <td>Reg</td>\n",
       "      <td>...</td>\n",
       "      <td>Ames City Assessor</td>\n",
       "      <td>3.0</td>\n",
       "      <td>(42.010219, -93.645814)</td>\n",
       "      <td>NaN</td>\n",
       "      <td>NaN</td>\n",
       "      <td>NaN</td>\n",
       "      <td>97.043702</td>\n",
       "      <td>Blueste</td>\n",
       "      <td>42.010219</td>\n",
       "      <td>-93.645814</td>\n",
       "    </tr>\n",
       "    <tr>\n",
       "      <th>2361</th>\n",
       "      <td>909451180</td>\n",
       "      <td>1229</td>\n",
       "      <td>124000</td>\n",
       "      <td>160</td>\n",
       "      <td>RM</td>\n",
       "      <td>24.0</td>\n",
       "      <td>1300</td>\n",
       "      <td>Pave</td>\n",
       "      <td>NaN</td>\n",
       "      <td>Reg</td>\n",
       "      <td>...</td>\n",
       "      <td>Ames City Assessor</td>\n",
       "      <td>2.0</td>\n",
       "      <td>(42.010219, -93.645814)</td>\n",
       "      <td>NaN</td>\n",
       "      <td>NaN</td>\n",
       "      <td>NaN</td>\n",
       "      <td>100.895037</td>\n",
       "      <td>Blueste</td>\n",
       "      <td>42.010219</td>\n",
       "      <td>-93.645814</td>\n",
       "    </tr>\n",
       "    <tr>\n",
       "      <th>2366</th>\n",
       "      <td>909455030</td>\n",
       "      <td>1034</td>\n",
       "      <td>185000</td>\n",
       "      <td>120</td>\n",
       "      <td>RM</td>\n",
       "      <td>35.0</td>\n",
       "      <td>3907</td>\n",
       "      <td>Pave</td>\n",
       "      <td>NaN</td>\n",
       "      <td>IR1</td>\n",
       "      <td>...</td>\n",
       "      <td>Ames City Assessor</td>\n",
       "      <td>1.0</td>\n",
       "      <td>(42.010219, -93.645814)</td>\n",
       "      <td>NaN</td>\n",
       "      <td>NaN</td>\n",
       "      <td>NaN</td>\n",
       "      <td>178.916828</td>\n",
       "      <td>Blueste</td>\n",
       "      <td>42.010219</td>\n",
       "      <td>-93.645814</td>\n",
       "    </tr>\n",
       "    <tr>\n",
       "      <th>2367</th>\n",
       "      <td>909455040</td>\n",
       "      <td>1191</td>\n",
       "      <td>162500</td>\n",
       "      <td>120</td>\n",
       "      <td>RM</td>\n",
       "      <td>35.0</td>\n",
       "      <td>3907</td>\n",
       "      <td>Pave</td>\n",
       "      <td>NaN</td>\n",
       "      <td>IR1</td>\n",
       "      <td>...</td>\n",
       "      <td>Ames City Assessor</td>\n",
       "      <td>2.0</td>\n",
       "      <td>(42.010219, -93.645814)</td>\n",
       "      <td>NaN</td>\n",
       "      <td>NaN</td>\n",
       "      <td>NaN</td>\n",
       "      <td>136.439966</td>\n",
       "      <td>Blueste</td>\n",
       "      <td>42.010219</td>\n",
       "      <td>-93.645814</td>\n",
       "    </tr>\n",
       "    <tr>\n",
       "      <th>2368</th>\n",
       "      <td>909455060</td>\n",
       "      <td>1020</td>\n",
       "      <td>200000</td>\n",
       "      <td>120</td>\n",
       "      <td>RM</td>\n",
       "      <td>35.0</td>\n",
       "      <td>3907</td>\n",
       "      <td>Pave</td>\n",
       "      <td>NaN</td>\n",
       "      <td>IR1</td>\n",
       "      <td>...</td>\n",
       "      <td>Ames City Assessor</td>\n",
       "      <td>1.0</td>\n",
       "      <td>(42.010219, -93.645814)</td>\n",
       "      <td>NaN</td>\n",
       "      <td>NaN</td>\n",
       "      <td>NaN</td>\n",
       "      <td>196.078431</td>\n",
       "      <td>Blueste</td>\n",
       "      <td>42.010219</td>\n",
       "      <td>-93.645814</td>\n",
       "    </tr>\n",
       "  </tbody>\n",
       "</table>\n",
       "<p>10 rows × 179 columns</p>\n",
       "</div>"
      ],
      "text/plain": [
       "            PID  GrLivArea  SalePrice  MSSubClass MSZoning  LotFrontage  \\\n",
       "2355  909451020       1032     116500         160       RM         24.0   \n",
       "2356  909451040       1032     115000         160       RM         24.0   \n",
       "2357  909451100       1229     137000         160       RM         24.0   \n",
       "2358  909451130       1045     123900         160       RM         24.0   \n",
       "2359  909451140       1229     121000         160       RM         24.0   \n",
       "2360  909451150       1556     151000         160       RM         24.0   \n",
       "2361  909451180       1229     124000         160       RM         24.0   \n",
       "2366  909455030       1034     185000         120       RM         35.0   \n",
       "2367  909455040       1191     162500         120       RM         35.0   \n",
       "2368  909455060       1020     200000         120       RM         35.0   \n",
       "\n",
       "      LotArea_x Street Alley LotShape  ...              Source NmbrBRs  \\\n",
       "2355       1879   Pave   NaN      Reg  ...  Ames City Assessor     2.0   \n",
       "2356       1733   Pave   NaN      Reg  ...  Ames City Assessor     2.0   \n",
       "2357       1488   Pave   NaN      Reg  ...  Ames City Assessor     2.0   \n",
       "2358       1782   Pave   NaN      Reg  ...  Ames City Assessor     2.0   \n",
       "2359       1612   Pave   NaN      Reg  ...  Ames City Assessor     2.0   \n",
       "2360       1950   Pave   NaN      Reg  ...  Ames City Assessor     3.0   \n",
       "2361       1300   Pave   NaN      Reg  ...  Ames City Assessor     2.0   \n",
       "2366       3907   Pave   NaN      IR1  ...  Ames City Assessor     1.0   \n",
       "2367       3907   Pave   NaN      IR1  ...  Ames City Assessor     2.0   \n",
       "2368       3907   Pave   NaN      IR1  ...  Ames City Assessor     1.0   \n",
       "\n",
       "                        coord dist_stadium dist_downtown dist_airport  \\\n",
       "2355  (42.010219, -93.645814)          NaN           NaN          NaN   \n",
       "2356  (42.010219, -93.645814)          NaN           NaN          NaN   \n",
       "2357  (42.010219, -93.645814)          NaN           NaN          NaN   \n",
       "2358  (42.010219, -93.645814)          NaN           NaN          NaN   \n",
       "2359  (42.010219, -93.645814)          NaN           NaN          NaN   \n",
       "2360  (42.010219, -93.645814)          NaN           NaN          NaN   \n",
       "2361  (42.010219, -93.645814)          NaN           NaN          NaN   \n",
       "2366  (42.010219, -93.645814)          NaN           NaN          NaN   \n",
       "2367  (42.010219, -93.645814)          NaN           NaN          NaN   \n",
       "2368  (42.010219, -93.645814)          NaN           NaN          NaN   \n",
       "\n",
       "     PricePerSqft Neighborhood        lat        lon  \n",
       "2355   112.887597      Blueste  42.010219 -93.645814  \n",
       "2356   111.434109      Blueste  42.010219 -93.645814  \n",
       "2357   111.472742      Blueste  42.010219 -93.645814  \n",
       "2358   118.564593      Blueste  42.010219 -93.645814  \n",
       "2359    98.454028      Blueste  42.010219 -93.645814  \n",
       "2360    97.043702      Blueste  42.010219 -93.645814  \n",
       "2361   100.895037      Blueste  42.010219 -93.645814  \n",
       "2366   178.916828      Blueste  42.010219 -93.645814  \n",
       "2367   136.439966      Blueste  42.010219 -93.645814  \n",
       "2368   196.078431      Blueste  42.010219 -93.645814  \n",
       "\n",
       "[10 rows x 179 columns]"
      ]
     },
     "execution_count": 197,
     "metadata": {},
     "output_type": "execute_result"
    }
   ],
   "source": [
    "new_full.loc[new_full['Neighborhood'] == 'Blueste', 'coord']= '(42.010219, -93.645814)'\n",
    "new_full.loc[new_full['Neighborhood'] == 'Blueste', 'lat']= 42.010219\n",
    "new_full.loc[new_full['Neighborhood'] == 'Blueste', 'lon']= -93.645814\n",
    "new_full.loc[new_full['Neighborhood'] == 'Blueste']"
   ]
  },
  {
   "cell_type": "markdown",
   "metadata": {},
   "source": [
    "Impute lat and lon based off the neighborhood mean  "
   ]
  },
  {
   "cell_type": "code",
   "execution_count": 198,
   "metadata": {},
   "outputs": [],
   "source": [
    "new_full['lat'] = new_full['lat'].fillna(new_full.groupby('Neighborhood')['lat'].transform('mean'))\n",
    "new_full['lon'] = new_full['lon'].fillna(new_full.groupby('Neighborhood')['lon'].transform('mean'))"
   ]
  },
  {
   "cell_type": "code",
   "execution_count": 209,
   "metadata": {},
   "outputs": [
    {
     "data": {
      "text/plain": [
       "(42.022102880518695 ,-93.6668015980319)     14\n",
       "(42.0602303, -93.6439316)                   12\n",
       "(42.052547, -93.628226)                     12\n",
       "(42.06018872662157 ,-93.6534178327045)      11\n",
       "(42.010219, -93.645814)                     10\n",
       "                                            ..\n",
       "(42.04711721032323, -93.6423784426502)       1\n",
       "(41.99713698687289, -93.6072027855146)       1\n",
       "(42.049460411604926, -93.63618913624374)     1\n",
       "(42.009164086706505, -93.61611797708161)     1\n",
       "(42.05319988784583, -93.64329328050945)      1\n",
       "Name: coord, Length: 2430, dtype: int64"
      ]
     },
     "execution_count": 209,
     "metadata": {},
     "output_type": "execute_result"
    }
   ],
   "source": [
    "new_full.loc[new_full['coord'] == 'nan ,nan', 'coord']= '('+new_full['lat'].astype(str) + ' ,' + new_full['lon'].astype(str)+')'\n",
    "new_full['coord'] = new_full['coord'].fillna('('+new_full['lat'].astype(str) + ' ,' + new_full['lon'].astype(str)+')')\n",
    "new_full['coord'].value_counts()"
   ]
  },
  {
   "cell_type": "markdown",
   "metadata": {},
   "source": [
    "Now determine the distances between each of the areas of interest and the houses"
   ]
  },
  {
   "cell_type": "code",
   "execution_count": 222,
   "metadata": {},
   "outputs": [],
   "source": [
    "JackTriceStadium = '42.0162027, -93.6357060'\n",
    "Downtown = '42.0251029, -93.6138075'\n",
    "Airport = '41.9989524, -93.6223669'"
   ]
  },
  {
   "cell_type": "code",
   "execution_count": 230,
   "metadata": {},
   "outputs": [
    {
     "name": "stdout",
     "output_type": "stream",
     "text": [
      "42.053808,-93.618344\n"
     ]
    }
   ],
   "source": [
    "print(new_full.iloc[0]['lat'].astype(str) +',' +new_full.iloc[0]['lon'].astype(str))"
   ]
  },
  {
   "cell_type": "code",
   "execution_count": 231,
   "metadata": {},
   "outputs": [
    {
     "data": {
      "text/plain": [
       "4.4174608168370755"
      ]
     },
     "execution_count": 231,
     "metadata": {},
     "output_type": "execute_result"
    }
   ],
   "source": [
    "from geopy import distance\n",
    "dist = distance.distance((new_full.iloc[0]['lat'].astype(str) +',' +new_full.iloc[0]['lon'].astype(str)), JackTriceStadium ).km\n",
    "dist"
   ]
  },
  {
   "cell_type": "code",
   "execution_count": null,
   "metadata": {},
   "outputs": [],
   "source": [
    "dist_stadium = []\n",
    "for co in range(0,len(new_full)):\n",
    "    try:\n",
    "        dist = distance.distance((new_full.iloc[co]['lat'].astype(str) +',' +new_full.iloc[co]['lon'].astype(str)), JackTriceStadium ).km\n",
    "    except:\n",
    "        dist = None\n",
    "    dist_stadium.append(dist)"
   ]
  },
  {
   "cell_type": "code",
   "execution_count": null,
   "metadata": {},
   "outputs": [],
   "source": [
    "dist_downtown = []\n",
    "for co in range(0,len(new_full)):\n",
    "    try:\n",
    "        dist = distance.distance((new_full.iloc[co]['lat'].astype(str) +',' +new_full.iloc[co]['lon'].astype(str)), Downtown ).km\n",
    "    except:\n",
    "        dist = None\n",
    "    dist_downtown.append(dist)"
   ]
  },
  {
   "cell_type": "code",
   "execution_count": null,
   "metadata": {},
   "outputs": [],
   "source": [
    "dist_airport = []\n",
    "for co in range(0,len(new_full)):\n",
    "    try:\n",
    "        dist = distance.distance((new_full.iloc[co]['lat'].astype(str) +',' +new_full.iloc[co]['lon'].astype(str)), Airport ).km\n",
    "    except:\n",
    "        dist = None\n",
    "    dist_airport.append(dist)"
   ]
  },
  {
   "cell_type": "code",
   "execution_count": null,
   "metadata": {},
   "outputs": [],
   "source": [
    "dist_airport = []\n",
    "for co in range(0,len(new_full)):\n",
    "    try:\n",
    "        dist = distance.distance((new_full.iloc[co]['lat'].astype(str) +',' +new_full.iloc[co]['lon'].astype(str)), Airport ).km\n",
    "    except:\n",
    "        dist = None\n",
    "    dist_airport.append(dist)\n",
    "    \n",
    "dist_airport"
   ]
  },
  {
   "cell_type": "code",
   "execution_count": null,
   "metadata": {},
   "outputs": [],
   "source": [
    "new_full['dist_stadium']= dist_stadium\n",
    "new_full['dist_downtown']= dist_downtown\n",
    "new_full['dist_airport']= dist_airport"
   ]
  },
  {
   "cell_type": "code",
   "execution_count": null,
   "metadata": {},
   "outputs": [],
   "source": [
    "full_latlon= new_full[['PID', 'lat', 'lon','dist_stadium','dist_downtown', 'dist_airport', 'coord' ]]"
   ]
  },
  {
   "cell_type": "code",
   "execution_count": 250,
   "metadata": {
    "scrolled": true
   },
   "outputs": [
    {
     "data": {
      "text/plain": [
       "(2615, 7)"
      ]
     },
     "execution_count": 250,
     "metadata": {},
     "output_type": "execute_result"
    }
   ],
   "source": [
    "full_latlon.shape"
   ]
  },
  {
   "cell_type": "code",
   "execution_count": null,
   "metadata": {},
   "outputs": [],
   "source": [
    "full_latlon.to_csv(r'../data/full_latlon.csv', index = False)"
   ]
  }
 ],
 "metadata": {
  "kernelspec": {
   "display_name": "Python 3",
   "language": "python",
   "name": "python3"
  },
  "language_info": {
   "codemirror_mode": {
    "name": "ipython",
    "version": 3
   },
   "file_extension": ".py",
   "mimetype": "text/x-python",
   "name": "python",
   "nbconvert_exporter": "python",
   "pygments_lexer": "ipython3",
   "version": "3.7.0"
  }
 },
 "nbformat": 4,
 "nbformat_minor": 4
}
